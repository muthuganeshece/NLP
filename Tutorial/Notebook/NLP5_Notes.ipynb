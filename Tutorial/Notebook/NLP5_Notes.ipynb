{
    "cells": [
        {
            "cell_type": "markdown",
            "metadata": {
                "id": "rQSHS1tlL1Co"
            },
            "source": [
                "Link to dataset: http://snap.stanford.edu/data/amazon/productGraph/categoryFiles/reviews_Musical_Instruments_5.json.gz\n",
                "\n",
                "Dataset: Amazon Musical Instruments Reviews"
            ]
        },
        {
            "cell_type": "markdown",
            "metadata": {
                "id": "PpqGQnkQL1Cv"
            },
            "source": [
                "# Situation: Data Scientist @ Amazon"
            ]
        },
        {
            "cell_type": "markdown",
            "metadata": {
                "id": "-J7IkXMfL1Cv"
            },
            "source": [
                "Today we will tackling a very common type of EDA/Insight discovery problem, where you've been given a lot of text, and you just have to figure out what is being talked about.\n",
                "\n",
                "In amazon, where let's say you're a data scientist at, reviews are a very important source of information. Lot's of sellars use it to figure what are the issues customers are facing, how to fix them, how to improve products etc. Amazon wants sellers to improve too, as if thier sales improves, amazon's revenue also goes up.\n",
                "\n",
                "## Problem Statement: what is being talked about in reviews?\n",
                "You are working in the Musical Instruments department, and you've recently recieved a request to use review data, and figure out **what is being talked about**, and give that insight to sellers so they could possibly improve thier products."
            ]
        },
        {
            "cell_type": "markdown",
            "metadata": {
                "id": "sHlxzXqUL1Cw"
            },
            "source": [
                "### Things to keep in mind:\n",
                "What do you think a solution to this would look like?\n",
                "\n",
                "1. A ppt you show to the sellers?\n",
                "2. A wordcloud of the what is being talked about in the reviews?\n",
                "3. A list of topics?\n",
                "4. A list of phrases/words being used?\n",
                "\n",
                "If you were a sellar what would you be looking forward to?"
            ]
        },
        {
            "cell_type": "markdown",
            "metadata": {
                "id": "sp8B7GAlL1Cw"
            },
            "source": [
                "Each type of solution has it's pros and cons. \n",
                "\n",
                "1. Some are easy to do, but hard to correctly understand\n",
                "   1. Example: Wordcloud. Wordcloud is easy to do, but it's very difficult to gain usable insight from it.\n",
                "2. Some are easy to digest and consume, but hard to do correctly\n",
                "   1. A list of topics: Very to easy to understand, but how would you generate these topics?"
            ]
        },
        {
            "cell_type": "markdown",
            "source": [
                "### Downloading Data"
            ],
            "metadata": {
                "id": "pDOxZi8uX2wI"
            }
        },
        {
            "cell_type": "code",
            "source": [
                "!gdown 1gGazb-hGBiJnVy4WCoWFOFfzPdhlmqrV"
            ],
            "metadata": {
                "colab": {
                    "base_uri": "https://localhost:8080/"
                },
                "id": "3y_95M1hX5jl",
                "outputId": "33fd2f5a-5850-4b0a-d94c-e6d86293e575"
            },
            "execution_count": null,
            "outputs": [
                {
                    "output_type": "stream",
                    "name": "stdout",
                    "text": [
                        "Downloading...\n",
                        "From: https://drive.google.com/uc?id=1gGazb-hGBiJnVy4WCoWFOFfzPdhlmqrV\n",
                        "To: /content/Musical_Instruments_5.json\n",
                        "\r  0% 0.00/7.45M [00:00<?, ?B/s]\r100% 7.45M/7.45M [00:00<00:00, 87.5MB/s]\n"
                    ]
                }
            ]
        },
        {
            "cell_type": "markdown",
            "metadata": {
                "id": "CHxJSlMFL1Cx"
            },
            "source": [
                "### Data Reading and simple EDA"
            ]
        },
        {
            "cell_type": "code",
            "execution_count": null,
            "metadata": {
                "colab": {
                    "base_uri": "https://localhost:8080/",
                    "height": 1000
                },
                "id": "s6tWweSAL1Cx",
                "outputId": "8a733553-ac8d-4869-f2a6-c4efe9c328a7"
            },
            "outputs": [
                {
                    "output_type": "execute_result",
                    "data": {
                        "text/plain": [
                            "           reviewerID        asin  \\\n",
                            "0      A2IBPI20UZIR0U  1384719342   \n",
                            "1      A14VAT5EAX3D9S  1384719342   \n",
                            "2      A195EZSQDW3E21  1384719342   \n",
                            "3      A2C00NNG1ZQQG2  1384719342   \n",
                            "4       A94QU4C90B1AX  1384719342   \n",
                            "...               ...         ...   \n",
                            "10256  A14B2YH83ZXMPP  B00JBIVXGC   \n",
                            "10257   A1RPTVW5VEOSI  B00JBIVXGC   \n",
                            "10258   AWCJ12KBO5VII  B00JBIVXGC   \n",
                            "10259  A2Z7S8B5U4PAKJ  B00JBIVXGC   \n",
                            "10260  A2WA8TDCTGUADI  B00JBIVXGC   \n",
                            "\n",
                            "                                           reviewerName   helpful  \\\n",
                            "0      cassandra tu \"Yeah, well, that's just like, u...    [0, 0]   \n",
                            "1                                                  Jake  [13, 14]   \n",
                            "2                         Rick Bennette \"Rick Bennette\"    [1, 1]   \n",
                            "3                             RustyBill \"Sunday Rocker\"    [0, 0]   \n",
                            "4                                         SEAN MASLANKA    [0, 0]   \n",
                            "...                                                 ...       ...   \n",
                            "10256                                   Lonnie M. Adams    [0, 0]   \n",
                            "10257                                Michael J. Edelman    [0, 0]   \n",
                            "10258                                  Michael L. Knapp    [0, 0]   \n",
                            "10259                           Rick Langdon \"Scriptor\"    [0, 0]   \n",
                            "10260                                   TheTerrorBeyond    [0, 0]   \n",
                            "\n",
                            "                                              reviewText  overall  \\\n",
                            "0      Not much to write about here, but it does exac...        5   \n",
                            "1      The product does exactly as it should and is q...        5   \n",
                            "2      The primary job of this device is to block the...        5   \n",
                            "3      Nice windscreen protects my MXL mic and preven...        5   \n",
                            "4      This pop filter is great. It looks and perform...        5   \n",
                            "...                                                  ...      ...   \n",
                            "10256            Great, just as expected.  Thank to all.        5   \n",
                            "10257  I've been thinking about trying the Nanoweb st...        5   \n",
                            "10258  I have tried coated strings in the past ( incl...        4   \n",
                            "10259  Well, MADE by Elixir and DEVELOPED with Taylor...        4   \n",
                            "10260  These strings are really quite good, but I wou...        4   \n",
                            "\n",
                            "                                                 summary  unixReviewTime  \\\n",
                            "0                                                   good      1393545600   \n",
                            "1                                                   Jake      1363392000   \n",
                            "2                                   It Does The Job Well      1377648000   \n",
                            "3                          GOOD WINDSCREEN FOR THE MONEY      1392336000   \n",
                            "4                  No more pops when I record my vocals.      1392940800   \n",
                            "...                                                  ...             ...   \n",
                            "10256                                         Five Stars      1405814400   \n",
                            "10257  Long life, and for some players, a good econom...      1404259200   \n",
                            "10258                                   Good for coated.      1405987200   \n",
                            "10259                                        Taylor Made      1404172800   \n",
                            "10260  These strings are really quite good, but I wou...      1405468800   \n",
                            "\n",
                            "        reviewTime  \n",
                            "0      02 28, 2014  \n",
                            "1      03 16, 2013  \n",
                            "2      08 28, 2013  \n",
                            "3      02 14, 2014  \n",
                            "4      02 21, 2014  \n",
                            "...            ...  \n",
                            "10256  07 20, 2014  \n",
                            "10257   07 2, 2014  \n",
                            "10258  07 22, 2014  \n",
                            "10259   07 1, 2014  \n",
                            "10260  07 16, 2014  \n",
                            "\n",
                            "[10261 rows x 9 columns]"
                        ],
                        "text/html": [
                            "\n",
                            "  <div id=\"df-cc3bfd14-d01c-4b76-9e56-f28ed85aeb6f\">\n",
                            "    <div class=\"colab-df-container\">\n",
                            "      <div>\n",
                            "<style scoped>\n",
                            "    .dataframe tbody tr th:only-of-type {\n",
                            "        vertical-align: middle;\n",
                            "    }\n",
                            "\n",
                            "    .dataframe tbody tr th {\n",
                            "        vertical-align: top;\n",
                            "    }\n",
                            "\n",
                            "    .dataframe thead th {\n",
                            "        text-align: right;\n",
                            "    }\n",
                            "</style>\n",
                            "<table border=\"1\" class=\"dataframe\">\n",
                            "  <thead>\n",
                            "    <tr style=\"text-align: right;\">\n",
                            "      <th></th>\n",
                            "      <th>reviewerID</th>\n",
                            "      <th>asin</th>\n",
                            "      <th>reviewerName</th>\n",
                            "      <th>helpful</th>\n",
                            "      <th>reviewText</th>\n",
                            "      <th>overall</th>\n",
                            "      <th>summary</th>\n",
                            "      <th>unixReviewTime</th>\n",
                            "      <th>reviewTime</th>\n",
                            "    </tr>\n",
                            "  </thead>\n",
                            "  <tbody>\n",
                            "    <tr>\n",
                            "      <th>0</th>\n",
                            "      <td>A2IBPI20UZIR0U</td>\n",
                            "      <td>1384719342</td>\n",
                            "      <td>cassandra tu \"Yeah, well, that's just like, u...</td>\n",
                            "      <td>[0, 0]</td>\n",
                            "      <td>Not much to write about here, but it does exac...</td>\n",
                            "      <td>5</td>\n",
                            "      <td>good</td>\n",
                            "      <td>1393545600</td>\n",
                            "      <td>02 28, 2014</td>\n",
                            "    </tr>\n",
                            "    <tr>\n",
                            "      <th>1</th>\n",
                            "      <td>A14VAT5EAX3D9S</td>\n",
                            "      <td>1384719342</td>\n",
                            "      <td>Jake</td>\n",
                            "      <td>[13, 14]</td>\n",
                            "      <td>The product does exactly as it should and is q...</td>\n",
                            "      <td>5</td>\n",
                            "      <td>Jake</td>\n",
                            "      <td>1363392000</td>\n",
                            "      <td>03 16, 2013</td>\n",
                            "    </tr>\n",
                            "    <tr>\n",
                            "      <th>2</th>\n",
                            "      <td>A195EZSQDW3E21</td>\n",
                            "      <td>1384719342</td>\n",
                            "      <td>Rick Bennette \"Rick Bennette\"</td>\n",
                            "      <td>[1, 1]</td>\n",
                            "      <td>The primary job of this device is to block the...</td>\n",
                            "      <td>5</td>\n",
                            "      <td>It Does The Job Well</td>\n",
                            "      <td>1377648000</td>\n",
                            "      <td>08 28, 2013</td>\n",
                            "    </tr>\n",
                            "    <tr>\n",
                            "      <th>3</th>\n",
                            "      <td>A2C00NNG1ZQQG2</td>\n",
                            "      <td>1384719342</td>\n",
                            "      <td>RustyBill \"Sunday Rocker\"</td>\n",
                            "      <td>[0, 0]</td>\n",
                            "      <td>Nice windscreen protects my MXL mic and preven...</td>\n",
                            "      <td>5</td>\n",
                            "      <td>GOOD WINDSCREEN FOR THE MONEY</td>\n",
                            "      <td>1392336000</td>\n",
                            "      <td>02 14, 2014</td>\n",
                            "    </tr>\n",
                            "    <tr>\n",
                            "      <th>4</th>\n",
                            "      <td>A94QU4C90B1AX</td>\n",
                            "      <td>1384719342</td>\n",
                            "      <td>SEAN MASLANKA</td>\n",
                            "      <td>[0, 0]</td>\n",
                            "      <td>This pop filter is great. It looks and perform...</td>\n",
                            "      <td>5</td>\n",
                            "      <td>No more pops when I record my vocals.</td>\n",
                            "      <td>1392940800</td>\n",
                            "      <td>02 21, 2014</td>\n",
                            "    </tr>\n",
                            "    <tr>\n",
                            "      <th>...</th>\n",
                            "      <td>...</td>\n",
                            "      <td>...</td>\n",
                            "      <td>...</td>\n",
                            "      <td>...</td>\n",
                            "      <td>...</td>\n",
                            "      <td>...</td>\n",
                            "      <td>...</td>\n",
                            "      <td>...</td>\n",
                            "      <td>...</td>\n",
                            "    </tr>\n",
                            "    <tr>\n",
                            "      <th>10256</th>\n",
                            "      <td>A14B2YH83ZXMPP</td>\n",
                            "      <td>B00JBIVXGC</td>\n",
                            "      <td>Lonnie M. Adams</td>\n",
                            "      <td>[0, 0]</td>\n",
                            "      <td>Great, just as expected.  Thank to all.</td>\n",
                            "      <td>5</td>\n",
                            "      <td>Five Stars</td>\n",
                            "      <td>1405814400</td>\n",
                            "      <td>07 20, 2014</td>\n",
                            "    </tr>\n",
                            "    <tr>\n",
                            "      <th>10257</th>\n",
                            "      <td>A1RPTVW5VEOSI</td>\n",
                            "      <td>B00JBIVXGC</td>\n",
                            "      <td>Michael J. Edelman</td>\n",
                            "      <td>[0, 0]</td>\n",
                            "      <td>I've been thinking about trying the Nanoweb st...</td>\n",
                            "      <td>5</td>\n",
                            "      <td>Long life, and for some players, a good econom...</td>\n",
                            "      <td>1404259200</td>\n",
                            "      <td>07 2, 2014</td>\n",
                            "    </tr>\n",
                            "    <tr>\n",
                            "      <th>10258</th>\n",
                            "      <td>AWCJ12KBO5VII</td>\n",
                            "      <td>B00JBIVXGC</td>\n",
                            "      <td>Michael L. Knapp</td>\n",
                            "      <td>[0, 0]</td>\n",
                            "      <td>I have tried coated strings in the past ( incl...</td>\n",
                            "      <td>4</td>\n",
                            "      <td>Good for coated.</td>\n",
                            "      <td>1405987200</td>\n",
                            "      <td>07 22, 2014</td>\n",
                            "    </tr>\n",
                            "    <tr>\n",
                            "      <th>10259</th>\n",
                            "      <td>A2Z7S8B5U4PAKJ</td>\n",
                            "      <td>B00JBIVXGC</td>\n",
                            "      <td>Rick Langdon \"Scriptor\"</td>\n",
                            "      <td>[0, 0]</td>\n",
                            "      <td>Well, MADE by Elixir and DEVELOPED with Taylor...</td>\n",
                            "      <td>4</td>\n",
                            "      <td>Taylor Made</td>\n",
                            "      <td>1404172800</td>\n",
                            "      <td>07 1, 2014</td>\n",
                            "    </tr>\n",
                            "    <tr>\n",
                            "      <th>10260</th>\n",
                            "      <td>A2WA8TDCTGUADI</td>\n",
                            "      <td>B00JBIVXGC</td>\n",
                            "      <td>TheTerrorBeyond</td>\n",
                            "      <td>[0, 0]</td>\n",
                            "      <td>These strings are really quite good, but I wou...</td>\n",
                            "      <td>4</td>\n",
                            "      <td>These strings are really quite good, but I wou...</td>\n",
                            "      <td>1405468800</td>\n",
                            "      <td>07 16, 2014</td>\n",
                            "    </tr>\n",
                            "  </tbody>\n",
                            "</table>\n",
                            "<p>10261 rows × 9 columns</p>\n",
                            "</div>\n",
                            "      <button class=\"colab-df-convert\" onclick=\"convertToInteractive('df-cc3bfd14-d01c-4b76-9e56-f28ed85aeb6f')\"\n",
                            "              title=\"Convert this dataframe to an interactive table.\"\n",
                            "              style=\"display:none;\">\n",
                            "        \n",
                            "  <svg xmlns=\"http://www.w3.org/2000/svg\" height=\"24px\"viewBox=\"0 0 24 24\"\n",
                            "       width=\"24px\">\n",
                            "    <path d=\"M0 0h24v24H0V0z\" fill=\"none\"/>\n",
                            "    <path d=\"M18.56 5.44l.94 2.06.94-2.06 2.06-.94-2.06-.94-.94-2.06-.94 2.06-2.06.94zm-11 1L8.5 8.5l.94-2.06 2.06-.94-2.06-.94L8.5 2.5l-.94 2.06-2.06.94zm10 10l.94 2.06.94-2.06 2.06-.94-2.06-.94-.94-2.06-.94 2.06-2.06.94z\"/><path d=\"M17.41 7.96l-1.37-1.37c-.4-.4-.92-.59-1.43-.59-.52 0-1.04.2-1.43.59L10.3 9.45l-7.72 7.72c-.78.78-.78 2.05 0 2.83L4 21.41c.39.39.9.59 1.41.59.51 0 1.02-.2 1.41-.59l7.78-7.78 2.81-2.81c.8-.78.8-2.07 0-2.86zM5.41 20L4 18.59l7.72-7.72 1.47 1.35L5.41 20z\"/>\n",
                            "  </svg>\n",
                            "      </button>\n",
                            "      \n",
                            "  <style>\n",
                            "    .colab-df-container {\n",
                            "      display:flex;\n",
                            "      flex-wrap:wrap;\n",
                            "      gap: 12px;\n",
                            "    }\n",
                            "\n",
                            "    .colab-df-convert {\n",
                            "      background-color: #E8F0FE;\n",
                            "      border: none;\n",
                            "      border-radius: 50%;\n",
                            "      cursor: pointer;\n",
                            "      display: none;\n",
                            "      fill: #1967D2;\n",
                            "      height: 32px;\n",
                            "      padding: 0 0 0 0;\n",
                            "      width: 32px;\n",
                            "    }\n",
                            "\n",
                            "    .colab-df-convert:hover {\n",
                            "      background-color: #E2EBFA;\n",
                            "      box-shadow: 0px 1px 2px rgba(60, 64, 67, 0.3), 0px 1px 3px 1px rgba(60, 64, 67, 0.15);\n",
                            "      fill: #174EA6;\n",
                            "    }\n",
                            "\n",
                            "    [theme=dark] .colab-df-convert {\n",
                            "      background-color: #3B4455;\n",
                            "      fill: #D2E3FC;\n",
                            "    }\n",
                            "\n",
                            "    [theme=dark] .colab-df-convert:hover {\n",
                            "      background-color: #434B5C;\n",
                            "      box-shadow: 0px 1px 3px 1px rgba(0, 0, 0, 0.15);\n",
                            "      filter: drop-shadow(0px 1px 2px rgba(0, 0, 0, 0.3));\n",
                            "      fill: #FFFFFF;\n",
                            "    }\n",
                            "  </style>\n",
                            "\n",
                            "      <script>\n",
                            "        const buttonEl =\n",
                            "          document.querySelector('#df-cc3bfd14-d01c-4b76-9e56-f28ed85aeb6f button.colab-df-convert');\n",
                            "        buttonEl.style.display =\n",
                            "          google.colab.kernel.accessAllowed ? 'block' : 'none';\n",
                            "\n",
                            "        async function convertToInteractive(key) {\n",
                            "          const element = document.querySelector('#df-cc3bfd14-d01c-4b76-9e56-f28ed85aeb6f');\n",
                            "          const dataTable =\n",
                            "            await google.colab.kernel.invokeFunction('convertToInteractive',\n",
                            "                                                     [key], {});\n",
                            "          if (!dataTable) return;\n",
                            "\n",
                            "          const docLinkHtml = 'Like what you see? Visit the ' +\n",
                            "            '<a target=\"_blank\" href=https://colab.research.google.com/notebooks/data_table.ipynb>data table notebook</a>'\n",
                            "            + ' to learn more about interactive tables.';\n",
                            "          element.innerHTML = '';\n",
                            "          dataTable['output_type'] = 'display_data';\n",
                            "          await google.colab.output.renderOutput(dataTable, element);\n",
                            "          const docLink = document.createElement('div');\n",
                            "          docLink.innerHTML = docLinkHtml;\n",
                            "          element.appendChild(docLink);\n",
                            "        }\n",
                            "      </script>\n",
                            "    </div>\n",
                            "  </div>\n",
                            "  "
                        ]
                    },
                    "metadata": {},
                    "execution_count": 2
                }
            ],
            "source": [
                "import pandas as pd\n",
                "import numpy as np\n",
                "\n",
                "review_data = pd.read_json(\"Musical_Instruments_5.json\", lines=True)\n",
                "review_data"
            ]
        },
        {
            "cell_type": "markdown",
            "metadata": {
                "id": "YAGeIf0YL1Cz"
            },
            "source": [
                "Hmm, the date format looks wierd. Let's fix that first"
            ]
        },
        {
            "cell_type": "code",
            "execution_count": null,
            "metadata": {
                "id": "glhOwHP6L1C0"
            },
            "outputs": [],
            "source": [
                "review_data[\"reviewTime\"] = pd.to_datetime(review_data[\"reviewTime\"], format=\"%m %d, %Y\")"
            ]
        },
        {
            "cell_type": "markdown",
            "metadata": {
                "id": "iDoIFCY9L1C0"
            },
            "source": [
                "Looks like we have reviews from 2005-2014, with most of the data coming from recent years."
            ]
        },
        {
            "cell_type": "code",
            "execution_count": null,
            "metadata": {
                "id": "-DV-OrIoL1C0",
                "outputId": "e03513e0-54a9-4cc0-93a0-30664b7d1266",
                "colab": {
                    "base_uri": "https://localhost:8080/",
                    "height": 287
                }
            },
            "outputs": [
                {
                    "output_type": "execute_result",
                    "data": {
                        "text/plain": [
                            "<matplotlib.axes._subplots.AxesSubplot at 0x7fb87ea38c90>"
                        ]
                    },
                    "metadata": {},
                    "execution_count": 4
                },
                {
                    "output_type": "display_data",
                    "data": {
                        "text/plain": [
                            "<Figure size 432x288 with 1 Axes>"
                        ],
                        "image/png": "[encoded data removed]"
                    },
                    "metadata": {
                        "needs_background": "light"
                    }
                }
            ],
            "source": [
                "review_data[\"reviewTime\"].hist()"
            ]
        },
        {
            "cell_type": "markdown",
            "metadata": {
                "id": "DHaojx3-L1C1"
            },
            "source": [
                "Looking at ratings, most reviews seem to be very positive."
            ]
        },
        {
            "cell_type": "code",
            "execution_count": null,
            "metadata": {
                "id": "MFiDBgbiL1C1",
                "outputId": "5639d10f-ae0e-45ef-9277-628b4edf6b17",
                "colab": {
                    "base_uri": "https://localhost:8080/",
                    "height": 287
                }
            },
            "outputs": [
                {
                    "output_type": "execute_result",
                    "data": {
                        "text/plain": [
                            "<matplotlib.axes._subplots.AxesSubplot at 0x7fb87e9f9510>"
                        ]
                    },
                    "metadata": {},
                    "execution_count": 5
                },
                {
                    "output_type": "display_data",
                    "data": {
                        "text/plain": [
                            "<Figure size 432x288 with 1 Axes>"
                        ],
                        "image/png": "[encoded data removed]"
                    },
                    "metadata": {
                        "needs_background": "light"
                    }
                }
            ],
            "source": [
                "review_data[\"overall\"].hist()"
            ]
        },
        {
            "cell_type": "markdown",
            "metadata": {
                "id": "5r7vOvKFL1C1"
            },
            "source": [
                "Since we're not really concerned with the sentiment or ratings, for this problem statement we'll only be focusing on the review content"
            ]
        },
        {
            "cell_type": "markdown",
            "metadata": {
                "id": "YmKByX_eL1C2"
            },
            "source": [
                "## What if we just count words?"
            ]
        },
        {
            "cell_type": "markdown",
            "metadata": {
                "id": "pMbHF2yxL1C2"
            },
            "source": [
                "What are the things being talked about in the reviews?\n",
                "\n",
                "Let's first try a simple word counter, and see the top 10 words?"
            ]
        },
        {
            "cell_type": "code",
            "execution_count": null,
            "metadata": {
                "id": "HCaLmyI8L1C2"
            },
            "outputs": [],
            "source": [
                "from collections import Counter\n",
                "def flatten(list_of_lists):\n",
                "    flat_list = []\n",
                "    for  l in list_of_lists:\n",
                "        flat_list.extend(l)\n",
                "    return flat_list"
            ]
        },
        {
            "cell_type": "markdown",
            "metadata": {
                "id": "7M6Ms7fgL1C2"
            },
            "source": [
                " \n",
                "Let's install NLTK, spacy and wordcloud"
            ]
        },
        {
            "cell_type": "code",
            "execution_count": null,
            "metadata": {
                "id": "GKfn3OeeL1C2",
                "colab": {
                    "base_uri": "https://localhost:8080/"
                },
                "outputId": "4291a315-dfa0-4f59-86f8-105fafedb00e"
            },
            "outputs": [
                {
                    "output_type": "stream",
                    "name": "stdout",
                    "text": [
                        "Looking in indexes: https://pypi.org/simple, https://us-python.pkg.dev/colab-wheels/public/simple/\n",
                        "Requirement already satisfied: nltk in /usr/local/lib/python3.7/dist-packages (3.7)\n",
                        "Requirement already satisfied: tqdm in /usr/local/lib/python3.7/dist-packages (from nltk) (4.64.1)\n",
                        "Requirement already satisfied: joblib in /usr/local/lib/python3.7/dist-packages (from nltk) (1.2.0)\n",
                        "Requirement already satisfied: click in /usr/local/lib/python3.7/dist-packages (from nltk) (7.1.2)\n",
                        "Requirement already satisfied: regex>=2021.8.3 in /usr/local/lib/python3.7/dist-packages (from nltk) (2022.6.2)\n",
                        "Looking in indexes: https://pypi.org/simple, https://us-python.pkg.dev/colab-wheels/public/simple/\n",
                        "Requirement already satisfied: wordcloud in /usr/local/lib/python3.7/dist-packages (1.8.2.2)\n",
                        "Requirement already satisfied: pillow in /usr/local/lib/python3.7/dist-packages (from wordcloud) (7.1.2)\n",
                        "Requirement already satisfied: matplotlib in /usr/local/lib/python3.7/dist-packages (from wordcloud) (3.2.2)\n",
                        "Requirement already satisfied: numpy>=1.6.1 in /usr/local/lib/python3.7/dist-packages (from wordcloud) (1.21.6)\n",
                        "Requirement already satisfied: kiwisolver>=1.0.1 in /usr/local/lib/python3.7/dist-packages (from matplotlib->wordcloud) (1.4.4)\n",
                        "Requirement already satisfied: python-dateutil>=2.1 in /usr/local/lib/python3.7/dist-packages (from matplotlib->wordcloud) (2.8.2)\n",
                        "Requirement already satisfied: pyparsing!=2.0.4,!=2.1.2,!=2.1.6,>=2.0.1 in /usr/local/lib/python3.7/dist-packages (from matplotlib->wordcloud) (3.0.9)\n",
                        "Requirement already satisfied: cycler>=0.10 in /usr/local/lib/python3.7/dist-packages (from matplotlib->wordcloud) (0.11.0)\n",
                        "Requirement already satisfied: typing-extensions in /usr/local/lib/python3.7/dist-packages (from kiwisolver>=1.0.1->matplotlib->wordcloud) (4.1.1)\n",
                        "Requirement already satisfied: six>=1.5 in /usr/local/lib/python3.7/dist-packages (from python-dateutil>=2.1->matplotlib->wordcloud) (1.15.0)\n"
                    ]
                },
                {
                    "output_type": "stream",
                    "name": "stderr",
                    "text": [
                        "[nltk_data] Downloading collection 'all'\n",
                        "[nltk_data]    | \n",
                        "[nltk_data]    | Downloading package abc to /root/nltk_data...\n",
                        "[nltk_data]    |   Unzipping corpora/abc.zip.\n",
                        "[nltk_data]    | Downloading package alpino to /root/nltk_data...\n",
                        "[nltk_data]    |   Unzipping corpora/alpino.zip.\n",
                        "[nltk_data]    | Downloading package averaged_perceptron_tagger to\n",
                        "[nltk_data]    |     /root/nltk_data...\n",
                        "[nltk_data]    |   Unzipping taggers/averaged_perceptron_tagger.zip.\n",
                        "[nltk_data]    | Downloading package averaged_perceptron_tagger_ru to\n",
                        "[nltk_data]    |     /root/nltk_data...\n",
                        "[nltk_data]    |   Unzipping\n",
                        "[nltk_data]    |       taggers/averaged_perceptron_tagger_ru.zip.\n",
                        "[nltk_data]    | Downloading package basque_grammars to\n",
                        "[nltk_data]    |     /root/nltk_data...\n",
                        "[nltk_data]    |   Unzipping grammars/basque_grammars.zip.\n",
                        "[nltk_data]    | Downloading package biocreative_ppi to\n",
                        "[nltk_data]    |     /root/nltk_data...\n",
                        "[nltk_data]    |   Unzipping corpora/biocreative_ppi.zip.\n",
                        "[nltk_data]    | Downloading package bllip_wsj_no_aux to\n",
                        "[nltk_data]    |     /root/nltk_data...\n",
                        "[nltk_data]    |   Unzipping models/bllip_wsj_no_aux.zip.\n",
                        "[nltk_data]    | Downloading package book_grammars to\n",
                        "[nltk_data]    |     /root/nltk_data...\n",
                        "[nltk_data]    |   Unzipping grammars/book_grammars.zip.\n",
                        "[nltk_data]    | Downloading package brown to /root/nltk_data...\n",
                        "[nltk_data]    |   Unzipping corpora/brown.zip.\n",
                        "[nltk_data]    | Downloading package brown_tei to /root/nltk_data...\n",
                        "[nltk_data]    |   Unzipping corpora/brown_tei.zip.\n",
                        "[nltk_data]    | Downloading package cess_cat to /root/nltk_data...\n",
                        "[nltk_data]    |   Unzipping corpora/cess_cat.zip.\n",
                        "[nltk_data]    | Downloading package cess_esp to /root/nltk_data...\n",
                        "[nltk_data]    |   Unzipping corpora/cess_esp.zip.\n",
                        "[nltk_data]    | Downloading package chat80 to /root/nltk_data...\n",
                        "[nltk_data]    |   Unzipping corpora/chat80.zip.\n",
                        "[nltk_data]    | Downloading package city_database to\n",
                        "[nltk_data]    |     /root/nltk_data...\n",
                        "[nltk_data]    |   Unzipping corpora/city_database.zip.\n",
                        "[nltk_data]    | Downloading package cmudict to /root/nltk_data...\n",
                        "[nltk_data]    |   Unzipping corpora/cmudict.zip.\n",
                        "[nltk_data]    | Downloading package comparative_sentences to\n",
                        "[nltk_data]    |     /root/nltk_data...\n",
                        "[nltk_data]    |   Unzipping corpora/comparative_sentences.zip.\n",
                        "[nltk_data]    | Downloading package comtrans to /root/nltk_data...\n",
                        "[nltk_data]    | Downloading package conll2000 to /root/nltk_data...\n",
                        "[nltk_data]    |   Unzipping corpora/conll2000.zip.\n",
                        "[nltk_data]    | Downloading package conll2002 to /root/nltk_data...\n",
                        "[nltk_data]    |   Unzipping corpora/conll2002.zip.\n",
                        "[nltk_data]    | Downloading package conll2007 to /root/nltk_data...\n",
                        "[nltk_data]    | Downloading package crubadan to /root/nltk_data...\n",
                        "[nltk_data]    |   Unzipping corpora/crubadan.zip.\n",
                        "[nltk_data]    | Downloading package dependency_treebank to\n",
                        "[nltk_data]    |     /root/nltk_data...\n",
                        "[nltk_data]    |   Unzipping corpora/dependency_treebank.zip.\n",
                        "[nltk_data]    | Downloading package dolch to /root/nltk_data...\n",
                        "[nltk_data]    |   Unzipping corpora/dolch.zip.\n",
                        "[nltk_data]    | Downloading package europarl_raw to\n",
                        "[nltk_data]    |     /root/nltk_data...\n",
                        "[nltk_data]    |   Unzipping corpora/europarl_raw.zip.\n",
                        "[nltk_data]    | Downloading package extended_omw to\n",
                        "[nltk_data]    |     /root/nltk_data...\n",
                        "[nltk_data]    | Downloading package floresta to /root/nltk_data...\n",
                        "[nltk_data]    |   Unzipping corpora/floresta.zip.\n",
                        "[nltk_data]    | Downloading package framenet_v15 to\n",
                        "[nltk_data]    |     /root/nltk_data...\n",
                        "[nltk_data]    |   Unzipping corpora/framenet_v15.zip.\n",
                        "[nltk_data]    | Downloading package framenet_v17 to\n",
                        "[nltk_data]    |     /root/nltk_data...\n",
                        "[nltk_data]    |   Unzipping corpora/framenet_v17.zip.\n",
                        "[nltk_data]    | Downloading package gazetteers to /root/nltk_data...\n",
                        "[nltk_data]    |   Unzipping corpora/gazetteers.zip.\n",
                        "[nltk_data]    | Downloading package genesis to /root/nltk_data...\n",
                        "[nltk_data]    |   Unzipping corpora/genesis.zip.\n",
                        "[nltk_data]    | Downloading package gutenberg to /root/nltk_data...\n",
                        "[nltk_data]    |   Unzipping corpora/gutenberg.zip.\n",
                        "[nltk_data]    | Downloading package ieer to /root/nltk_data...\n",
                        "[nltk_data]    |   Unzipping corpora/ieer.zip.\n",
                        "[nltk_data]    | Downloading package inaugural to /root/nltk_data...\n",
                        "[nltk_data]    |   Unzipping corpora/inaugural.zip.\n",
                        "[nltk_data]    | Downloading package indian to /root/nltk_data...\n",
                        "[nltk_data]    |   Unzipping corpora/indian.zip.\n",
                        "[nltk_data]    | Downloading package jeita to /root/nltk_data...\n",
                        "[nltk_data]    | Downloading package kimmo to /root/nltk_data...\n",
                        "[nltk_data]    |   Unzipping corpora/kimmo.zip.\n",
                        "[nltk_data]    | Downloading package knbc to /root/nltk_data...\n",
                        "[nltk_data]    | Downloading package large_grammars to\n",
                        "[nltk_data]    |     /root/nltk_data...\n",
                        "[nltk_data]    |   Unzipping grammars/large_grammars.zip.\n",
                        "[nltk_data]    | Downloading package lin_thesaurus to\n",
                        "[nltk_data]    |     /root/nltk_data...\n",
                        "[nltk_data]    |   Unzipping corpora/lin_thesaurus.zip.\n",
                        "[nltk_data]    | Downloading package mac_morpho to /root/nltk_data...\n",
                        "[nltk_data]    |   Unzipping corpora/mac_morpho.zip.\n",
                        "[nltk_data]    | Downloading package machado to /root/nltk_data...\n",
                        "[nltk_data]    | Downloading package masc_tagged to /root/nltk_data...\n",
                        "[nltk_data]    | Downloading package maxent_ne_chunker to\n",
                        "[nltk_data]    |     /root/nltk_data...\n",
                        "[nltk_data]    |   Unzipping chunkers/maxent_ne_chunker.zip.\n",
                        "[nltk_data]    | Downloading package maxent_treebank_pos_tagger to\n",
                        "[nltk_data]    |     /root/nltk_data...\n",
                        "[nltk_data]    |   Unzipping taggers/maxent_treebank_pos_tagger.zip.\n",
                        "[nltk_data]    | Downloading package moses_sample to\n",
                        "[nltk_data]    |     /root/nltk_data...\n",
                        "[nltk_data]    |   Unzipping models/moses_sample.zip.\n",
                        "[nltk_data]    | Downloading package movie_reviews to\n",
                        "[nltk_data]    |     /root/nltk_data...\n",
                        "[nltk_data]    |   Unzipping corpora/movie_reviews.zip.\n",
                        "[nltk_data]    | Downloading package mte_teip5 to /root/nltk_data...\n",
                        "[nltk_data]    |   Unzipping corpora/mte_teip5.zip.\n",
                        "[nltk_data]    | Downloading package mwa_ppdb to /root/nltk_data...\n",
                        "[nltk_data]    |   Unzipping misc/mwa_ppdb.zip.\n",
                        "[nltk_data]    | Downloading package names to /root/nltk_data...\n",
                        "[nltk_data]    |   Unzipping corpora/names.zip.\n",
                        "[nltk_data]    | Downloading package nombank.1.0 to /root/nltk_data...\n",
                        "[nltk_data]    | Downloading package nonbreaking_prefixes to\n",
                        "[nltk_data]    |     /root/nltk_data...\n",
                        "[nltk_data]    |   Unzipping corpora/nonbreaking_prefixes.zip.\n",
                        "[nltk_data]    | Downloading package nps_chat to /root/nltk_data...\n",
                        "[nltk_data]    |   Unzipping corpora/nps_chat.zip.\n",
                        "[nltk_data]    | Downloading package omw to /root/nltk_data...\n",
                        "[nltk_data]    | Downloading package omw-1.4 to /root/nltk_data...\n",
                        "[nltk_data]    | Downloading package opinion_lexicon to\n",
                        "[nltk_data]    |     /root/nltk_data...\n",
                        "[nltk_data]    |   Unzipping corpora/opinion_lexicon.zip.\n",
                        "[nltk_data]    | Downloading package panlex_swadesh to\n",
                        "[nltk_data]    |     /root/nltk_data...\n",
                        "[nltk_data]    | Downloading package paradigms to /root/nltk_data...\n",
                        "[nltk_data]    |   Unzipping corpora/paradigms.zip.\n",
                        "[nltk_data]    | Downloading package pe08 to /root/nltk_data...\n",
                        "[nltk_data]    |   Unzipping corpora/pe08.zip.\n",
                        "[nltk_data]    | Downloading package perluniprops to\n",
                        "[nltk_data]    |     /root/nltk_data...\n",
                        "[nltk_data]    |   Unzipping misc/perluniprops.zip.\n",
                        "[nltk_data]    | Downloading package pil to /root/nltk_data...\n",
                        "[nltk_data]    |   Unzipping corpora/pil.zip.\n",
                        "[nltk_data]    | Downloading package pl196x to /root/nltk_data...\n",
                        "[nltk_data]    |   Unzipping corpora/pl196x.zip.\n",
                        "[nltk_data]    | Downloading package porter_test to /root/nltk_data...\n",
                        "[nltk_data]    |   Unzipping stemmers/porter_test.zip.\n",
                        "[nltk_data]    | Downloading package ppattach to /root/nltk_data...\n",
                        "[nltk_data]    |   Unzipping corpora/ppattach.zip.\n",
                        "[nltk_data]    | Downloading package problem_reports to\n",
                        "[nltk_data]    |     /root/nltk_data...\n",
                        "[nltk_data]    |   Unzipping corpora/problem_reports.zip.\n",
                        "[nltk_data]    | Downloading package product_reviews_1 to\n",
                        "[nltk_data]    |     /root/nltk_data...\n",
                        "[nltk_data]    |   Unzipping corpora/product_reviews_1.zip.\n",
                        "[nltk_data]    | Downloading package product_reviews_2 to\n",
                        "[nltk_data]    |     /root/nltk_data...\n",
                        "[nltk_data]    |   Unzipping corpora/product_reviews_2.zip.\n",
                        "[nltk_data]    | Downloading package propbank to /root/nltk_data...\n",
                        "[nltk_data]    | Downloading package pros_cons to /root/nltk_data...\n",
                        "[nltk_data]    |   Unzipping corpora/pros_cons.zip.\n",
                        "[nltk_data]    | Downloading package ptb to /root/nltk_data...\n",
                        "[nltk_data]    |   Unzipping corpora/ptb.zip.\n",
                        "[nltk_data]    | Downloading package punkt to /root/nltk_data...\n",
                        "[nltk_data]    |   Unzipping tokenizers/punkt.zip.\n",
                        "[nltk_data]    | Downloading package qc to /root/nltk_data...\n",
                        "[nltk_data]    |   Unzipping corpora/qc.zip.\n",
                        "[nltk_data]    | Downloading package reuters to /root/nltk_data...\n",
                        "[nltk_data]    | Downloading package rslp to /root/nltk_data...\n",
                        "[nltk_data]    |   Unzipping stemmers/rslp.zip.\n",
                        "[nltk_data]    | Downloading package rte to /root/nltk_data...\n",
                        "[nltk_data]    |   Unzipping corpora/rte.zip.\n",
                        "[nltk_data]    | Downloading package sample_grammars to\n",
                        "[nltk_data]    |     /root/nltk_data...\n",
                        "[nltk_data]    |   Unzipping grammars/sample_grammars.zip.\n",
                        "[nltk_data]    | Downloading package semcor to /root/nltk_data...\n",
                        "[nltk_data]    | Downloading package senseval to /root/nltk_data...\n",
                        "[nltk_data]    |   Unzipping corpora/senseval.zip.\n",
                        "[nltk_data]    | Downloading package sentence_polarity to\n",
                        "[nltk_data]    |     /root/nltk_data...\n",
                        "[nltk_data]    |   Unzipping corpora/sentence_polarity.zip.\n",
                        "[nltk_data]    | Downloading package sentiwordnet to\n",
                        "[nltk_data]    |     /root/nltk_data...\n",
                        "[nltk_data]    |   Unzipping corpora/sentiwordnet.zip.\n",
                        "[nltk_data]    | Downloading package shakespeare to /root/nltk_data...\n",
                        "[nltk_data]    |   Unzipping corpora/shakespeare.zip.\n",
                        "[nltk_data]    | Downloading package sinica_treebank to\n",
                        "[nltk_data]    |     /root/nltk_data...\n",
                        "[nltk_data]    |   Unzipping corpora/sinica_treebank.zip.\n",
                        "[nltk_data]    | Downloading package smultron to /root/nltk_data...\n",
                        "[nltk_data]    |   Unzipping corpora/smultron.zip.\n",
                        "[nltk_data]    | Downloading package snowball_data to\n",
                        "[nltk_data]    |     /root/nltk_data...\n",
                        "[nltk_data]    | Downloading package spanish_grammars to\n",
                        "[nltk_data]    |     /root/nltk_data...\n",
                        "[nltk_data]    |   Unzipping grammars/spanish_grammars.zip.\n",
                        "[nltk_data]    | Downloading package state_union to /root/nltk_data...\n",
                        "[nltk_data]    |   Unzipping corpora/state_union.zip.\n",
                        "[nltk_data]    | Downloading package stopwords to /root/nltk_data...\n",
                        "[nltk_data]    |   Unzipping corpora/stopwords.zip.\n",
                        "[nltk_data]    | Downloading package subjectivity to\n",
                        "[nltk_data]    |     /root/nltk_data...\n",
                        "[nltk_data]    |   Unzipping corpora/subjectivity.zip.\n",
                        "[nltk_data]    | Downloading package swadesh to /root/nltk_data...\n",
                        "[nltk_data]    |   Unzipping corpora/swadesh.zip.\n",
                        "[nltk_data]    | Downloading package switchboard to /root/nltk_data...\n",
                        "[nltk_data]    |   Unzipping corpora/switchboard.zip.\n",
                        "[nltk_data]    | Downloading package tagsets to /root/nltk_data...\n",
                        "[nltk_data]    |   Unzipping help/tagsets.zip.\n",
                        "[nltk_data]    | Downloading package timit to /root/nltk_data...\n",
                        "[nltk_data]    |   Unzipping corpora/timit.zip.\n",
                        "[nltk_data]    | Downloading package toolbox to /root/nltk_data...\n",
                        "[nltk_data]    |   Unzipping corpora/toolbox.zip.\n",
                        "[nltk_data]    | Downloading package treebank to /root/nltk_data...\n",
                        "[nltk_data]    |   Unzipping corpora/treebank.zip.\n",
                        "[nltk_data]    | Downloading package twitter_samples to\n",
                        "[nltk_data]    |     /root/nltk_data...\n",
                        "[nltk_data]    |   Unzipping corpora/twitter_samples.zip.\n",
                        "[nltk_data]    | Downloading package udhr to /root/nltk_data...\n",
                        "[nltk_data]    |   Unzipping corpora/udhr.zip.\n",
                        "[nltk_data]    | Downloading package udhr2 to /root/nltk_data...\n",
                        "[nltk_data]    |   Unzipping corpora/udhr2.zip.\n",
                        "[nltk_data]    | Downloading package unicode_samples to\n",
                        "[nltk_data]    |     /root/nltk_data...\n",
                        "[nltk_data]    |   Unzipping corpora/unicode_samples.zip.\n",
                        "[nltk_data]    | Downloading package universal_tagset to\n",
                        "[nltk_data]    |     /root/nltk_data...\n",
                        "[nltk_data]    |   Unzipping taggers/universal_tagset.zip.\n",
                        "[nltk_data]    | Downloading package universal_treebanks_v20 to\n",
                        "[nltk_data]    |     /root/nltk_data...\n",
                        "[nltk_data]    | Downloading package vader_lexicon to\n",
                        "[nltk_data]    |     /root/nltk_data...\n",
                        "[nltk_data]    | Downloading package verbnet to /root/nltk_data...\n",
                        "[nltk_data]    |   Unzipping corpora/verbnet.zip.\n",
                        "[nltk_data]    | Downloading package verbnet3 to /root/nltk_data...\n",
                        "[nltk_data]    |   Unzipping corpora/verbnet3.zip.\n",
                        "[nltk_data]    | Downloading package webtext to /root/nltk_data...\n",
                        "[nltk_data]    |   Unzipping corpora/webtext.zip.\n",
                        "[nltk_data]    | Downloading package wmt15_eval to /root/nltk_data...\n",
                        "[nltk_data]    |   Unzipping models/wmt15_eval.zip.\n",
                        "[nltk_data]    | Downloading package word2vec_sample to\n",
                        "[nltk_data]    |     /root/nltk_data...\n",
                        "[nltk_data]    |   Unzipping models/word2vec_sample.zip.\n",
                        "[nltk_data]    | Downloading package wordnet to /root/nltk_data...\n",
                        "[nltk_data]    | Downloading package wordnet2021 to /root/nltk_data...\n",
                        "[nltk_data]    | Downloading package wordnet31 to /root/nltk_data...\n",
                        "[nltk_data]    | Downloading package wordnet_ic to /root/nltk_data...\n",
                        "[nltk_data]    |   Unzipping corpora/wordnet_ic.zip.\n",
                        "[nltk_data]    | Downloading package words to /root/nltk_data...\n",
                        "[nltk_data]    |   Unzipping corpora/words.zip.\n",
                        "[nltk_data]    | Downloading package ycoe to /root/nltk_data...\n",
                        "[nltk_data]    |   Unzipping corpora/ycoe.zip.\n",
                        "[nltk_data]    | \n",
                        "[nltk_data]  Done downloading collection all\n"
                    ]
                },
                {
                    "output_type": "execute_result",
                    "data": {
                        "text/plain": [
                            "True"
                        ]
                    },
                    "metadata": {},
                    "execution_count": 7
                }
            ],
            "source": [
                "!pip install nltk\n",
                "!pip install wordcloud\n",
                "import nltk\n",
                "nltk.download('all')"
            ]
        },
        {
            "cell_type": "code",
            "execution_count": null,
            "metadata": {
                "id": "OhNZweYsL1C3"
            },
            "outputs": [],
            "source": [
                "from nltk.tokenize import word_tokenize\n",
                "from wordcloud import WordCloud\n",
                "from matplotlib import pyplot as plt\n",
                "\n",
                "def wordcloud_plot(counter_all):\n",
                "    w = WordCloud().generate_from_frequencies(frequencies=dict(counter_all))\n",
                "    plt.imshow(w)\n",
                "\n",
                "def tokenize(text):\n",
                "    tokens = [w for w in word_tokenize(text.lower())]\n",
                "    return tokens"
            ]
        },
        {
            "cell_type": "code",
            "execution_count": null,
            "metadata": {
                "id": "aTG0VWXOL1C3",
                "outputId": "f9c43dd5-eecf-4c47-ec05-d6fa28c2fbdd",
                "colab": {
                    "base_uri": "https://localhost:8080/"
                }
            },
            "outputs": [
                {
                    "output_type": "execute_result",
                    "data": {
                        "text/plain": [
                            "[('.', 47090),\n",
                            " ('the', 44092),\n",
                            " (',', 35705),\n",
                            " ('i', 30997),\n",
                            " ('a', 27895),\n",
                            " ('and', 26984),\n",
                            " ('it', 24119),\n",
                            " ('to', 23038),\n",
                            " ('is', 14943),\n",
                            " ('of', 13588)]"
                        ]
                    },
                    "metadata": {},
                    "execution_count": 9
                }
            ],
            "source": [
                "counter_all = Counter(flatten(review_data[\"reviewText\"].apply(tokenize).tolist()))\n",
                "counter_all.most_common(10)"
            ]
        },
        {
            "cell_type": "code",
            "execution_count": null,
            "metadata": {
                "id": "OCTgVFx3L1C4",
                "outputId": "314e9bf0-8f60-4d5d-c64a-7782bc5060ce",
                "colab": {
                    "base_uri": "https://localhost:8080/",
                    "height": 219
                }
            },
            "outputs": [
                {
                    "output_type": "display_data",
                    "data": {
                        "text/plain": [
                            "<Figure size 432x288 with 1 Axes>"
                        ],
                        "image/png": "[encoded data removed]"
                    },
                    "metadata": {
                        "needs_background": "light"
                    }
                }
            ],
            "source": [
                "wordcloud_plot(counter_all)"
            ]
        },
        {
            "cell_type": "markdown",
            "metadata": {
                "id": "_M7IDq3PL1C3"
            },
            "source": [
                "### The 10 most **common words seem to all be stop words** and/or punctuations. \n",
                "\n",
                "The wordcloud also doesn't look very useful"
            ]
        },
        {
            "cell_type": "markdown",
            "metadata": {
                "id": "PhAsRM6xL1C4"
            },
            "source": [
                "# What if we remove stopwords?\n",
                "Let's try and improve this with a simple stopword and punctuation remover, and using better word tokenization"
            ]
        },
        {
            "cell_type": "code",
            "execution_count": null,
            "metadata": {
                "id": "hmalO7g6L1C5"
            },
            "outputs": [],
            "source": [
                "from nltk.corpus import stopwords\n",
                "\n",
                "english_stopwords = set(stopwords.words('english'))"
            ]
        },
        {
            "cell_type": "code",
            "execution_count": null,
            "metadata": {
                "id": "5nYnuhZuL1C5"
            },
            "outputs": [],
            "source": [
                "def tokenize_clean(text):\n",
                "    tokens = [w for w in word_tokenize(text.lower()) if w not in english_stopwords and w.isalpha()]\n",
                "    return tokens"
            ]
        },
        {
            "cell_type": "code",
            "execution_count": null,
            "metadata": {
                "id": "ZmqjAOxgL1C5",
                "outputId": "19ceef7a-b8d7-48cb-bab4-9ba61b242575",
                "colab": {
                    "base_uri": "https://localhost:8080/"
                }
            },
            "outputs": [
                {
                    "output_type": "execute_result",
                    "data": {
                        "text/plain": [
                            "[('guitar', 5472),\n",
                            " ('one', 4402),\n",
                            " ('great', 4026),\n",
                            " ('like', 3897),\n",
                            " ('use', 3724),\n",
                            " ('good', 3720),\n",
                            " ('sound', 3507),\n",
                            " ('strings', 3349),\n",
                            " ('well', 3042),\n",
                            " ('get', 2657)]"
                        ]
                    },
                    "metadata": {},
                    "execution_count": 13
                }
            ],
            "source": [
                "counter_all = Counter(flatten(review_data[\"reviewText\"].apply(tokenize_clean).tolist()))\n",
                "counter_all.most_common(10)"
            ]
        },
        {
            "cell_type": "code",
            "execution_count": null,
            "metadata": {
                "id": "U467fY2QL1C5",
                "outputId": "4dad815b-7384-4e3c-cbfe-76837c5281ef",
                "colab": {
                    "base_uri": "https://localhost:8080/",
                    "height": 219
                }
            },
            "outputs": [
                {
                    "output_type": "display_data",
                    "data": {
                        "text/plain": [
                            "<Figure size 432x288 with 1 Axes>"
                        ],
                        "image/png": "[encoded data removed]"
                    },
                    "metadata": {
                        "needs_background": "light"
                    }
                }
            ],
            "source": [
                "wordcloud_plot(counter_all)"
            ]
        },
        {
            "cell_type": "markdown",
            "metadata": {
                "id": "toZNe2miL1C5"
            },
            "source": [
                "Much better now, but still **not very informative**, considering we care about **\"what\"** people are talking about. \n",
                "\n",
                "### Most of the words seem to be about how someone \"liked\" something, or something was \"good\". \n",
                "\n",
                "The wordcloud also looks much better!\n",
                "\n",
                "#### The only useful things we got are \"guitar\" and \"strings\"..."
            ]
        },
        {
            "cell_type": "code",
            "execution_count": null,
            "metadata": {
                "id": "FCbWn7AjL1C6",
                "colab": {
                    "base_uri": "https://localhost:8080/"
                },
                "outputId": "76cf611c-3ed8-4d2d-bc86-aaaf1f820bae"
            },
            "outputs": [
                {
                    "output_type": "stream",
                    "name": "stdout",
                    "text": [
                        "Looking in indexes: https://pypi.org/simple, https://us-python.pkg.dev/colab-wheels/public/simple/\n",
                        "Requirement already satisfied: gensim in /usr/local/lib/python3.7/dist-packages (3.6.0)\n",
                        "Requirement already satisfied: scipy>=0.18.1 in /usr/local/lib/python3.7/dist-packages (from gensim) (1.7.3)\n",
                        "Requirement already satisfied: numpy>=1.11.3 in /usr/local/lib/python3.7/dist-packages (from gensim) (1.21.6)\n",
                        "Requirement already satisfied: six>=1.5.0 in /usr/local/lib/python3.7/dist-packages (from gensim) (1.15.0)\n",
                        "Requirement already satisfied: smart-open>=1.2.1 in /usr/local/lib/python3.7/dist-packages (from gensim) (5.2.1)\n",
                        "Looking in indexes: https://pypi.org/simple, https://us-python.pkg.dev/colab-wheels/public/simple/\n",
                        "Collecting pyLDAvis\n",
                        "  Downloading pyLDAvis-3.3.1.tar.gz (1.7 MB)\n",
                        "\u001b[K     |████████████████████████████████| 1.7 MB 6.2 MB/s \n",
                        "\u001b[?25h  Installing build dependencies ... \u001b[?25l\u001b[?25hdone\n",
                        "  Getting requirements to build wheel ... \u001b[?25l\u001b[?25hdone\n",
                        "  Installing backend dependencies ... \u001b[?25l\u001b[?25hdone\n",
                        "    Preparing wheel metadata ... \u001b[?25l\u001b[?25hdone\n",
                        "Collecting sklearn\n",
                        "  Downloading sklearn-0.0.tar.gz (1.1 kB)\n",
                        "Collecting funcy\n",
                        "  Downloading funcy-1.17-py2.py3-none-any.whl (33 kB)\n",
                        "Requirement already satisfied: gensim in /usr/local/lib/python3.7/dist-packages (from pyLDAvis) (3.6.0)\n",
                        "Requirement already satisfied: pandas>=1.2.0 in /usr/local/lib/python3.7/dist-packages (from pyLDAvis) (1.3.5)\n",
                        "Requirement already satisfied: scipy in /usr/local/lib/python3.7/dist-packages (from pyLDAvis) (1.7.3)\n",
                        "Requirement already satisfied: numexpr in /usr/local/lib/python3.7/dist-packages (from pyLDAvis) (2.8.4)\n",
                        "Requirement already satisfied: setuptools in /usr/local/lib/python3.7/dist-packages (from pyLDAvis) (57.4.0)\n",
                        "Requirement already satisfied: numpy>=1.20.0 in /usr/local/lib/python3.7/dist-packages (from pyLDAvis) (1.21.6)\n",
                        "Requirement already satisfied: joblib in /usr/local/lib/python3.7/dist-packages (from pyLDAvis) (1.2.0)\n",
                        "Requirement already satisfied: scikit-learn in /usr/local/lib/python3.7/dist-packages (from pyLDAvis) (1.0.2)\n",
                        "Requirement already satisfied: jinja2 in /usr/local/lib/python3.7/dist-packages (from pyLDAvis) (2.11.3)\n",
                        "Requirement already satisfied: future in /usr/local/lib/python3.7/dist-packages (from pyLDAvis) (0.16.0)\n",
                        "Requirement already satisfied: python-dateutil>=2.7.3 in /usr/local/lib/python3.7/dist-packages (from pandas>=1.2.0->pyLDAvis) (2.8.2)\n",
                        "Requirement already satisfied: pytz>=2017.3 in /usr/local/lib/python3.7/dist-packages (from pandas>=1.2.0->pyLDAvis) (2022.5)\n",
                        "Requirement already satisfied: six>=1.5 in /usr/local/lib/python3.7/dist-packages (from python-dateutil>=2.7.3->pandas>=1.2.0->pyLDAvis) (1.15.0)\n",
                        "Requirement already satisfied: smart-open>=1.2.1 in /usr/local/lib/python3.7/dist-packages (from gensim->pyLDAvis) (5.2.1)\n",
                        "Requirement already satisfied: MarkupSafe>=0.23 in /usr/local/lib/python3.7/dist-packages (from jinja2->pyLDAvis) (2.0.1)\n",
                        "Requirement already satisfied: threadpoolctl>=2.0.0 in /usr/local/lib/python3.7/dist-packages (from scikit-learn->pyLDAvis) (3.1.0)\n",
                        "Building wheels for collected packages: pyLDAvis, sklearn\n",
                        "  Building wheel for pyLDAvis (PEP 517) ... \u001b[?25l\u001b[?25hdone\n",
                        "  Created wheel for pyLDAvis: filename=pyLDAvis-3.3.1-py2.py3-none-any.whl size=136898 sha256=3e23f858a5018b29208e391daf9834b14e3a2e65a26e7e73a4a61c8febb54e03\n",
                        "  Stored in directory: /root/.cache/pip/wheels/c9/21/f6/17bcf2667e8a68532ba2fbf6d5c72fdf4c7f7d9abfa4852d2f\n",
                        "  Building wheel for sklearn (setup.py) ... \u001b[?25l\u001b[?25hdone\n",
                        "  Created wheel for sklearn: filename=sklearn-0.0-py2.py3-none-any.whl size=1310 sha256=bd8970ed6e2d93237f565f1e30751b82fd6e968d67dcb49eddf01d144786f47c\n",
                        "  Stored in directory: /root/.cache/pip/wheels/46/ef/c3/157e41f5ee1372d1be90b09f74f82b10e391eaacca8f22d33e\n",
                        "Successfully built pyLDAvis sklearn\n",
                        "Installing collected packages: sklearn, funcy, pyLDAvis\n",
                        "Successfully installed funcy-1.17 pyLDAvis-3.3.1 sklearn-0.0\n",
                        "Looking in indexes: https://pypi.org/simple, https://us-python.pkg.dev/colab-wheels/public/simple/\n",
                        "Requirement already satisfied: spacy in /usr/local/lib/python3.7/dist-packages (3.4.2)\n",
                        "Requirement already satisfied: numpy>=1.15.0 in /usr/local/lib/python3.7/dist-packages (from spacy) (1.21.6)\n",
                        "Requirement already satisfied: spacy-legacy<3.1.0,>=3.0.10 in /usr/local/lib/python3.7/dist-packages (from spacy) (3.0.10)\n",
                        "Requirement already satisfied: catalogue<2.1.0,>=2.0.6 in /usr/local/lib/python3.7/dist-packages (from spacy) (2.0.8)\n",
                        "Requirement already satisfied: cymem<2.1.0,>=2.0.2 in /usr/local/lib/python3.7/dist-packages (from spacy) (2.0.7)\n",
                        "Requirement already satisfied: pathy>=0.3.5 in /usr/local/lib/python3.7/dist-packages (from spacy) (0.6.2)\n",
                        "Requirement already satisfied: thinc<8.2.0,>=8.1.0 in /usr/local/lib/python3.7/dist-packages (from spacy) (8.1.5)\n",
                        "Requirement already satisfied: spacy-loggers<2.0.0,>=1.0.0 in /usr/local/lib/python3.7/dist-packages (from spacy) (1.0.3)\n",
                        "Requirement already satisfied: setuptools in /usr/local/lib/python3.7/dist-packages (from spacy) (57.4.0)\n",
                        "Requirement already satisfied: requests<3.0.0,>=2.13.0 in /usr/local/lib/python3.7/dist-packages (from spacy) (2.23.0)\n",
                        "Requirement already satisfied: typing-extensions<4.2.0,>=3.7.4 in /usr/local/lib/python3.7/dist-packages (from spacy) (4.1.1)\n",
                        "Requirement already satisfied: murmurhash<1.1.0,>=0.28.0 in /usr/local/lib/python3.7/dist-packages (from spacy) (1.0.9)\n",
                        "Requirement already satisfied: pydantic!=1.8,!=1.8.1,<1.11.0,>=1.7.4 in /usr/local/lib/python3.7/dist-packages (from spacy) (1.10.2)\n",
                        "Requirement already satisfied: srsly<3.0.0,>=2.4.3 in /usr/local/lib/python3.7/dist-packages (from spacy) (2.4.5)\n",
                        "Requirement already satisfied: tqdm<5.0.0,>=4.38.0 in /usr/local/lib/python3.7/dist-packages (from spacy) (4.64.1)\n",
                        "Requirement already satisfied: jinja2 in /usr/local/lib/python3.7/dist-packages (from spacy) (2.11.3)\n",
                        "Requirement already satisfied: typer<0.5.0,>=0.3.0 in /usr/local/lib/python3.7/dist-packages (from spacy) (0.4.2)\n",
                        "Requirement already satisfied: wasabi<1.1.0,>=0.9.1 in /usr/local/lib/python3.7/dist-packages (from spacy) (0.10.1)\n",
                        "Requirement already satisfied: packaging>=20.0 in /usr/local/lib/python3.7/dist-packages (from spacy) (21.3)\n",
                        "Requirement already satisfied: preshed<3.1.0,>=3.0.2 in /usr/local/lib/python3.7/dist-packages (from spacy) (3.0.8)\n",
                        "Requirement already satisfied: langcodes<4.0.0,>=3.2.0 in /usr/local/lib/python3.7/dist-packages (from spacy) (3.3.0)\n",
                        "Requirement already satisfied: zipp>=0.5 in /usr/local/lib/python3.7/dist-packages (from catalogue<2.1.0,>=2.0.6->spacy) (3.10.0)\n",
                        "Requirement already satisfied: pyparsing!=3.0.5,>=2.0.2 in /usr/local/lib/python3.7/dist-packages (from packaging>=20.0->spacy) (3.0.9)\n",
                        "Requirement already satisfied: smart-open<6.0.0,>=5.2.1 in /usr/local/lib/python3.7/dist-packages (from pathy>=0.3.5->spacy) (5.2.1)\n",
                        "Requirement already satisfied: certifi>=2017.4.17 in /usr/local/lib/python3.7/dist-packages (from requests<3.0.0,>=2.13.0->spacy) (2022.9.24)\n",
                        "Requirement already satisfied: urllib3!=1.25.0,!=1.25.1,<1.26,>=1.21.1 in /usr/local/lib/python3.7/dist-packages (from requests<3.0.0,>=2.13.0->spacy) (1.24.3)\n",
                        "Requirement already satisfied: chardet<4,>=3.0.2 in /usr/local/lib/python3.7/dist-packages (from requests<3.0.0,>=2.13.0->spacy) (3.0.4)\n",
                        "Requirement already satisfied: idna<3,>=2.5 in /usr/local/lib/python3.7/dist-packages (from requests<3.0.0,>=2.13.0->spacy) (2.10)\n",
                        "Requirement already satisfied: blis<0.8.0,>=0.7.8 in /usr/local/lib/python3.7/dist-packages (from thinc<8.2.0,>=8.1.0->spacy) (0.7.9)\n",
                        "Requirement already satisfied: confection<1.0.0,>=0.0.1 in /usr/local/lib/python3.7/dist-packages (from thinc<8.2.0,>=8.1.0->spacy) (0.0.3)\n",
                        "Requirement already satisfied: click<9.0.0,>=7.1.1 in /usr/local/lib/python3.7/dist-packages (from typer<0.5.0,>=0.3.0->spacy) (7.1.2)\n",
                        "Requirement already satisfied: MarkupSafe>=0.23 in /usr/local/lib/python3.7/dist-packages (from jinja2->spacy) (2.0.1)\n"
                    ]
                }
            ],
            "source": [
                "!pip install gensim\n",
                "!pip install pyLDAvis\n",
                "!pip install spacy"
            ]
        },
        {
            "cell_type": "markdown",
            "metadata": {
                "id": "RezlURo9L1C6"
            },
            "source": [
                "## Wait, why don't we just filter in \"useful\" words?\n"
            ]
        },
        {
            "cell_type": "markdown",
            "metadata": {
                "id": "ZwW_Ld2LL1C6"
            },
            "source": [
                "Can we remove these \"not useful\" words? We know that all these reviews are in English, can we use some English Grammer concepts here?"
            ]
        },
        {
            "cell_type": "markdown",
            "metadata": {
                "id": "_v8nZNZAL1C6"
            },
            "source": [
                "### What if we extract all Nouns from the reviews?"
            ]
        },
        {
            "cell_type": "markdown",
            "metadata": {
                "id": "DrzNvm_9L1C6"
            },
            "source": [
                "We can do this using spacy:"
            ]
        },
        {
            "cell_type": "markdown",
            "metadata": {
                "id": "Qg-UhcepL1C6"
            },
            "source": [
                "First, let's install spacy, and the english models for spacy"
            ]
        },
        {
            "cell_type": "code",
            "execution_count": null,
            "metadata": {
                "id": "O0jakBWtL1C6",
                "outputId": "02a39ffc-fb39-4638-d1ce-3464ceac45e8",
                "colab": {
                    "base_uri": "https://localhost:8080/"
                }
            },
            "outputs": [
                {
                    "output_type": "stream",
                    "name": "stdout",
                    "text": [
                        "Looking in indexes: https://pypi.org/simple, https://us-python.pkg.dev/colab-wheels/public/simple/\n",
                        "Requirement already satisfied: spacy in /usr/local/lib/python3.7/dist-packages (3.4.2)\n",
                        "Requirement already satisfied: numpy>=1.15.0 in /usr/local/lib/python3.7/dist-packages (from spacy) (1.21.6)\n",
                        "Requirement already satisfied: setuptools in /usr/local/lib/python3.7/dist-packages (from spacy) (57.4.0)\n",
                        "Requirement already satisfied: murmurhash<1.1.0,>=0.28.0 in /usr/local/lib/python3.7/dist-packages (from spacy) (1.0.9)\n",
                        "Requirement already satisfied: srsly<3.0.0,>=2.4.3 in /usr/local/lib/python3.7/dist-packages (from spacy) (2.4.5)\n",
                        "Requirement already satisfied: preshed<3.1.0,>=3.0.2 in /usr/local/lib/python3.7/dist-packages (from spacy) (3.0.8)\n",
                        "Requirement already satisfied: packaging>=20.0 in /usr/local/lib/python3.7/dist-packages (from spacy) (21.3)\n",
                        "Requirement already satisfied: pathy>=0.3.5 in /usr/local/lib/python3.7/dist-packages (from spacy) (0.6.2)\n",
                        "Requirement already satisfied: jinja2 in /usr/local/lib/python3.7/dist-packages (from spacy) (2.11.3)\n",
                        "Requirement already satisfied: tqdm<5.0.0,>=4.38.0 in /usr/local/lib/python3.7/dist-packages (from spacy) (4.64.1)\n",
                        "Requirement already satisfied: typer<0.5.0,>=0.3.0 in /usr/local/lib/python3.7/dist-packages (from spacy) (0.4.2)\n",
                        "Requirement already satisfied: wasabi<1.1.0,>=0.9.1 in /usr/local/lib/python3.7/dist-packages (from spacy) (0.10.1)\n",
                        "Requirement already satisfied: thinc<8.2.0,>=8.1.0 in /usr/local/lib/python3.7/dist-packages (from spacy) (8.1.5)\n",
                        "Requirement already satisfied: spacy-legacy<3.1.0,>=3.0.10 in /usr/local/lib/python3.7/dist-packages (from spacy) (3.0.10)\n",
                        "Requirement already satisfied: typing-extensions<4.2.0,>=3.7.4 in /usr/local/lib/python3.7/dist-packages (from spacy) (4.1.1)\n",
                        "Requirement already satisfied: cymem<2.1.0,>=2.0.2 in /usr/local/lib/python3.7/dist-packages (from spacy) (2.0.7)\n",
                        "Requirement already satisfied: catalogue<2.1.0,>=2.0.6 in /usr/local/lib/python3.7/dist-packages (from spacy) (2.0.8)\n",
                        "Requirement already satisfied: spacy-loggers<2.0.0,>=1.0.0 in /usr/local/lib/python3.7/dist-packages (from spacy) (1.0.3)\n",
                        "Requirement already satisfied: pydantic!=1.8,!=1.8.1,<1.11.0,>=1.7.4 in /usr/local/lib/python3.7/dist-packages (from spacy) (1.10.2)\n",
                        "Requirement already satisfied: requests<3.0.0,>=2.13.0 in /usr/local/lib/python3.7/dist-packages (from spacy) (2.23.0)\n",
                        "Requirement already satisfied: langcodes<4.0.0,>=3.2.0 in /usr/local/lib/python3.7/dist-packages (from spacy) (3.3.0)\n",
                        "Requirement already satisfied: zipp>=0.5 in /usr/local/lib/python3.7/dist-packages (from catalogue<2.1.0,>=2.0.6->spacy) (3.10.0)\n",
                        "Requirement already satisfied: pyparsing!=3.0.5,>=2.0.2 in /usr/local/lib/python3.7/dist-packages (from packaging>=20.0->spacy) (3.0.9)\n",
                        "Requirement already satisfied: smart-open<6.0.0,>=5.2.1 in /usr/local/lib/python3.7/dist-packages (from pathy>=0.3.5->spacy) (5.2.1)\n",
                        "Requirement already satisfied: idna<3,>=2.5 in /usr/local/lib/python3.7/dist-packages (from requests<3.0.0,>=2.13.0->spacy) (2.10)\n",
                        "Requirement already satisfied: certifi>=2017.4.17 in /usr/local/lib/python3.7/dist-packages (from requests<3.0.0,>=2.13.0->spacy) (2022.9.24)\n",
                        "Requirement already satisfied: urllib3!=1.25.0,!=1.25.1,<1.26,>=1.21.1 in /usr/local/lib/python3.7/dist-packages (from requests<3.0.0,>=2.13.0->spacy) (1.24.3)\n",
                        "Requirement already satisfied: chardet<4,>=3.0.2 in /usr/local/lib/python3.7/dist-packages (from requests<3.0.0,>=2.13.0->spacy) (3.0.4)\n",
                        "Requirement already satisfied: confection<1.0.0,>=0.0.1 in /usr/local/lib/python3.7/dist-packages (from thinc<8.2.0,>=8.1.0->spacy) (0.0.3)\n",
                        "Requirement already satisfied: blis<0.8.0,>=0.7.8 in /usr/local/lib/python3.7/dist-packages (from thinc<8.2.0,>=8.1.0->spacy) (0.7.9)\n",
                        "Requirement already satisfied: click<9.0.0,>=7.1.1 in /usr/local/lib/python3.7/dist-packages (from typer<0.5.0,>=0.3.0->spacy) (7.1.2)\n",
                        "Requirement already satisfied: MarkupSafe>=0.23 in /usr/local/lib/python3.7/dist-packages (from jinja2->spacy) (2.0.1)\n",
                        "2022-11-07 11:12:55.686249: E tensorflow/stream_executor/cuda/cuda_driver.cc:271] failed call to cuInit: CUDA_ERROR_NO_DEVICE: no CUDA-capable device is detected\n",
                        "Looking in indexes: https://pypi.org/simple, https://us-python.pkg.dev/colab-wheels/public/simple/\n",
                        "Collecting en-core-web-sm==3.4.1\n",
                        "  Downloading https://github.com/explosion/spacy-models/releases/download/en_core_web_sm-3.4.1/en_core_web_sm-3.4.1-py3-none-any.whl (12.8 MB)\n",
                        "\u001b[K     |████████████████████████████████| 12.8 MB 2.2 MB/s \n",
                        "\u001b[?25hRequirement already satisfied: spacy<3.5.0,>=3.4.0 in /usr/local/lib/python3.7/dist-packages (from en-core-web-sm==3.4.1) (3.4.2)\n",
                        "Requirement already satisfied: langcodes<4.0.0,>=3.2.0 in /usr/local/lib/python3.7/dist-packages (from spacy<3.5.0,>=3.4.0->en-core-web-sm==3.4.1) (3.3.0)\n",
                        "Requirement already satisfied: pathy>=0.3.5 in /usr/local/lib/python3.7/dist-packages (from spacy<3.5.0,>=3.4.0->en-core-web-sm==3.4.1) (0.6.2)\n",
                        "Requirement already satisfied: spacy-loggers<2.0.0,>=1.0.0 in /usr/local/lib/python3.7/dist-packages (from spacy<3.5.0,>=3.4.0->en-core-web-sm==3.4.1) (1.0.3)\n",
                        "Requirement already satisfied: srsly<3.0.0,>=2.4.3 in /usr/local/lib/python3.7/dist-packages (from spacy<3.5.0,>=3.4.0->en-core-web-sm==3.4.1) (2.4.5)\n",
                        "Requirement already satisfied: wasabi<1.1.0,>=0.9.1 in /usr/local/lib/python3.7/dist-packages (from spacy<3.5.0,>=3.4.0->en-core-web-sm==3.4.1) (0.10.1)\n",
                        "Requirement already satisfied: typer<0.5.0,>=0.3.0 in /usr/local/lib/python3.7/dist-packages (from spacy<3.5.0,>=3.4.0->en-core-web-sm==3.4.1) (0.4.2)\n",
                        "Requirement already satisfied: murmurhash<1.1.0,>=0.28.0 in /usr/local/lib/python3.7/dist-packages (from spacy<3.5.0,>=3.4.0->en-core-web-sm==3.4.1) (1.0.9)\n",
                        "Requirement already satisfied: pydantic!=1.8,!=1.8.1,<1.11.0,>=1.7.4 in /usr/local/lib/python3.7/dist-packages (from spacy<3.5.0,>=3.4.0->en-core-web-sm==3.4.1) (1.10.2)\n",
                        "Requirement already satisfied: packaging>=20.0 in /usr/local/lib/python3.7/dist-packages (from spacy<3.5.0,>=3.4.0->en-core-web-sm==3.4.1) (21.3)\n",
                        "Requirement already satisfied: preshed<3.1.0,>=3.0.2 in /usr/local/lib/python3.7/dist-packages (from spacy<3.5.0,>=3.4.0->en-core-web-sm==3.4.1) (3.0.8)\n",
                        "Requirement already satisfied: spacy-legacy<3.1.0,>=3.0.10 in /usr/local/lib/python3.7/dist-packages (from spacy<3.5.0,>=3.4.0->en-core-web-sm==3.4.1) (3.0.10)\n",
                        "Requirement already satisfied: catalogue<2.1.0,>=2.0.6 in /usr/local/lib/python3.7/dist-packages (from spacy<3.5.0,>=3.4.0->en-core-web-sm==3.4.1) (2.0.8)\n",
                        "Requirement already satisfied: numpy>=1.15.0 in /usr/local/lib/python3.7/dist-packages (from spacy<3.5.0,>=3.4.0->en-core-web-sm==3.4.1) (1.21.6)\n",
                        "Requirement already satisfied: thinc<8.2.0,>=8.1.0 in /usr/local/lib/python3.7/dist-packages (from spacy<3.5.0,>=3.4.0->en-core-web-sm==3.4.1) (8.1.5)\n",
                        "Requirement already satisfied: tqdm<5.0.0,>=4.38.0 in /usr/local/lib/python3.7/dist-packages (from spacy<3.5.0,>=3.4.0->en-core-web-sm==3.4.1) (4.64.1)\n",
                        "Requirement already satisfied: cymem<2.1.0,>=2.0.2 in /usr/local/lib/python3.7/dist-packages (from spacy<3.5.0,>=3.4.0->en-core-web-sm==3.4.1) (2.0.7)\n",
                        "Requirement already satisfied: jinja2 in /usr/local/lib/python3.7/dist-packages (from spacy<3.5.0,>=3.4.0->en-core-web-sm==3.4.1) (2.11.3)\n",
                        "Requirement already satisfied: requests<3.0.0,>=2.13.0 in /usr/local/lib/python3.7/dist-packages (from spacy<3.5.0,>=3.4.0->en-core-web-sm==3.4.1) (2.23.0)\n",
                        "Requirement already satisfied: typing-extensions<4.2.0,>=3.7.4 in /usr/local/lib/python3.7/dist-packages (from spacy<3.5.0,>=3.4.0->en-core-web-sm==3.4.1) (4.1.1)\n",
                        "Requirement already satisfied: setuptools in /usr/local/lib/python3.7/dist-packages (from spacy<3.5.0,>=3.4.0->en-core-web-sm==3.4.1) (57.4.0)\n",
                        "Requirement already satisfied: zipp>=0.5 in /usr/local/lib/python3.7/dist-packages (from catalogue<2.1.0,>=2.0.6->spacy<3.5.0,>=3.4.0->en-core-web-sm==3.4.1) (3.10.0)\n",
                        "Requirement already satisfied: pyparsing!=3.0.5,>=2.0.2 in /usr/local/lib/python3.7/dist-packages (from packaging>=20.0->spacy<3.5.0,>=3.4.0->en-core-web-sm==3.4.1) (3.0.9)\n",
                        "Requirement already satisfied: smart-open<6.0.0,>=5.2.1 in /usr/local/lib/python3.7/dist-packages (from pathy>=0.3.5->spacy<3.5.0,>=3.4.0->en-core-web-sm==3.4.1) (5.2.1)\n",
                        "Requirement already satisfied: chardet<4,>=3.0.2 in /usr/local/lib/python3.7/dist-packages (from requests<3.0.0,>=2.13.0->spacy<3.5.0,>=3.4.0->en-core-web-sm==3.4.1) (3.0.4)\n",
                        "Requirement already satisfied: certifi>=2017.4.17 in /usr/local/lib/python3.7/dist-packages (from requests<3.0.0,>=2.13.0->spacy<3.5.0,>=3.4.0->en-core-web-sm==3.4.1) (2022.9.24)\n",
                        "Requirement already satisfied: idna<3,>=2.5 in /usr/local/lib/python3.7/dist-packages (from requests<3.0.0,>=2.13.0->spacy<3.5.0,>=3.4.0->en-core-web-sm==3.4.1) (2.10)\n",
                        "Requirement already satisfied: urllib3!=1.25.0,!=1.25.1,<1.26,>=1.21.1 in /usr/local/lib/python3.7/dist-packages (from requests<3.0.0,>=2.13.0->spacy<3.5.0,>=3.4.0->en-core-web-sm==3.4.1) (1.24.3)\n",
                        "Requirement already satisfied: blis<0.8.0,>=0.7.8 in /usr/local/lib/python3.7/dist-packages (from thinc<8.2.0,>=8.1.0->spacy<3.5.0,>=3.4.0->en-core-web-sm==3.4.1) (0.7.9)\n",
                        "Requirement already satisfied: confection<1.0.0,>=0.0.1 in /usr/local/lib/python3.7/dist-packages (from thinc<8.2.0,>=8.1.0->spacy<3.5.0,>=3.4.0->en-core-web-sm==3.4.1) (0.0.3)\n",
                        "Requirement already satisfied: click<9.0.0,>=7.1.1 in /usr/local/lib/python3.7/dist-packages (from typer<0.5.0,>=0.3.0->spacy<3.5.0,>=3.4.0->en-core-web-sm==3.4.1) (7.1.2)\n",
                        "Requirement already satisfied: MarkupSafe>=0.23 in /usr/local/lib/python3.7/dist-packages (from jinja2->spacy<3.5.0,>=3.4.0->en-core-web-sm==3.4.1) (2.0.1)\n",
                        "\u001b[38;5;2m✔ Download and installation successful\u001b[0m\n",
                        "You can now load the package via spacy.load('en_core_web_sm')\n"
                    ]
                }
            ],
            "source": [
                "!pip install spacy\n",
                "!python -m spacy download en_core_web_sm"
            ]
        },
        {
            "cell_type": "markdown",
            "metadata": {
                "id": "TKY-e3AuL1C7"
            },
            "source": [
                "Now let's load the english model"
            ]
        },
        {
            "cell_type": "code",
            "execution_count": null,
            "metadata": {
                "id": "X8Yrwt49L1C7"
            },
            "outputs": [],
            "source": [
                "import spacy\n",
                "nlp = spacy.load(\"en_core_web_sm\")"
            ]
        },
        {
            "cell_type": "markdown",
            "metadata": {
                "id": "UrSl72KpL1C7"
            },
            "source": [
                "#### Let's take the first review and use spacy on it"
            ]
        },
        {
            "cell_type": "code",
            "execution_count": null,
            "metadata": {
                "id": "V9xXA2NtL1C7",
                "outputId": "6dd115bf-b9c5-4842-cb74-4e972f1e6d2e",
                "colab": {
                    "base_uri": "https://localhost:8080/",
                    "height": 85
                }
            },
            "outputs": [
                {
                    "output_type": "execute_result",
                    "data": {
                        "text/plain": [
                            "\"Not much to write about here, but it does exactly what it's supposed to. filters out the pop sounds. now my recordings are much more crisp. it is one of the lowest prices pop filters on amazon so might as well buy it, they honestly work the same despite their pricing,\""
                        ],
                        "application/vnd.google.colaboratory.intrinsic+json": {
                            "type": "string"
                        }
                    },
                    "metadata": {},
                    "execution_count": 18
                }
            ],
            "source": [
                "review_sample = review_data[\"reviewText\"].iloc[0]\n",
                "review_sample"
            ]
        },
        {
            "cell_type": "code",
            "execution_count": null,
            "metadata": {
                "id": "RStGViDtL1C7",
                "outputId": "11e11e73-afab-4edb-e123-78c20fa8bd9e",
                "colab": {
                    "base_uri": "https://localhost:8080/"
                }
            },
            "outputs": [
                {
                    "output_type": "execute_result",
                    "data": {
                        "text/plain": [
                            "Not much to write about here, but it does exactly what it's supposed to. filters out the pop sounds. now my recordings are much more crisp. it is one of the lowest prices pop filters on amazon so might as well buy it, they honestly work the same despite their pricing,"
                        ]
                    },
                    "metadata": {},
                    "execution_count": 19
                }
            ],
            "source": [
                "spacy_process_review = nlp(review_sample)\n",
                "spacy_process_review"
            ]
        },
        {
            "cell_type": "markdown",
            "metadata": {
                "id": "RDR143VbL1C7"
            },
            "source": [
                "From the first glance, it looks similar, except the quotes (\") have dissapeared. In fact, after processing, **spacy does NOT return a string object, but a custom spacy Document object!**"
            ]
        },
        {
            "cell_type": "code",
            "execution_count": null,
            "metadata": {
                "id": "BGxTcRX1L1C8",
                "outputId": "6e4ccaf9-8e3f-43f2-d0e1-cf9811dd308e",
                "colab": {
                    "base_uri": "https://localhost:8080/"
                }
            },
            "outputs": [
                {
                    "output_type": "execute_result",
                    "data": {
                        "text/plain": [
                            "spacy.tokens.doc.Doc"
                        ]
                    },
                    "metadata": {},
                    "execution_count": 20
                }
            ],
            "source": [
                "type(spacy_process_review)"
            ]
        },
        {
            "cell_type": "markdown",
            "metadata": {
                "id": "Hswvs5ogL1C8"
            },
            "source": [
                "Similarly, **each word in the document isn't a simple string either, but a Token object**! So spacy has done tokenisation and stuff for us already. \n",
                "\n",
                "Each token object also has a lot of useful properties that we can use."
            ]
        },
        {
            "cell_type": "code",
            "execution_count": null,
            "metadata": {
                "id": "dgxlIv4dL1C8",
                "outputId": "cde7ca5f-30d3-442d-ac6f-64a3af868755",
                "colab": {
                    "base_uri": "https://localhost:8080/"
                }
            },
            "outputs": [
                {
                    "output_type": "execute_result",
                    "data": {
                        "text/plain": [
                            "(Not, spacy.tokens.token.Token)"
                        ]
                    },
                    "metadata": {},
                    "execution_count": 21
                }
            ],
            "source": [
                "spacy_process_review[0], type(spacy_process_review[0])"
            ]
        },
        {
            "cell_type": "markdown",
            "metadata": {
                "id": "TbaBizUZL1C8"
            },
            "source": [
                "Here, we can get the part of speech (i.e. grammer classification) of each word. The word \"Not\" here, is a particle, denoted by \"PART\". But let's look for all Nouns!"
            ]
        },
        {
            "cell_type": "markdown",
            "metadata": {
                "id": "OP1Wi3BGL1C9"
            },
            "source": [
                "### How are these Part of Speech (POS) tags generated, though? What is spacy doing?\n",
                "\n",
                "Spacy is using it's english pre-trained model, which was trained using tagged tree-bank data. \n",
                "\n",
                "This tree-bank dataset contains the POS tag for every word, and these datasets were labelled manually.\n",
                "\n",
                "1. Model used could be Probabalistic HMM (Hidden Markov Model), which can be trained using a DP algo called Viterbi Algo\n",
                "2. Model could also be a sequential neural network like RNN (Recurrent Neural Network), trained using backpropogation\n"
            ]
        },
        {
            "cell_type": "markdown",
            "metadata": {
                "id": "ZhJGKCJBL1C9"
            },
            "source": [
                "#### Spacy recognises Noun as \"NOUN\" and proper nouns (names of spceific things like people, cities etc.) as seperate \"PROPN\""
            ]
        },
        {
            "cell_type": "code",
            "execution_count": null,
            "metadata": {
                "id": "DBxRIFSNL1C9",
                "outputId": "401f14ed-e2ff-4aae-bc68-a7028e583a5f",
                "colab": {
                    "base_uri": "https://localhost:8080/",
                    "height": 40
                }
            },
            "outputs": [
                {
                    "output_type": "execute_result",
                    "data": {
                        "text/plain": [
                            "'PART'"
                        ],
                        "application/vnd.google.colaboratory.intrinsic+json": {
                            "type": "string"
                        }
                    },
                    "metadata": {},
                    "execution_count": 22
                }
            ],
            "source": [
                "spacy_process_review[0].pos_"
            ]
        },
        {
            "cell_type": "markdown",
            "metadata": {
                "id": "To8fLpTdL1C9"
            },
            "source": [
                "Awesome! Now we can see the POS tags int this review, we can see that is talking about pop-sounds, recording, prices & filters, by just looking at the Nouns"
            ]
        },
        {
            "cell_type": "code",
            "execution_count": null,
            "metadata": {
                "id": "SmAo9DqxL1C-",
                "outputId": "bb79985c-6fba-46ab-f790-6a18dba70495",
                "colab": {
                    "base_uri": "https://localhost:8080/"
                }
            },
            "outputs": [
                {
                    "output_type": "execute_result",
                    "data": {
                        "text/plain": [
                            "Not much to write about here, but it does exactly what it's supposed to. filters out the pop sounds. now my recordings are much more crisp. it is one of the lowest prices pop filters on amazon so might as well buy it, they honestly work the same despite their pricing,"
                        ]
                    },
                    "metadata": {},
                    "execution_count": 23
                }
            ],
            "source": [
                "spacy_process_review"
            ]
        },
        {
            "cell_type": "code",
            "execution_count": null,
            "metadata": {
                "id": "VSS2tCcgL1C-",
                "outputId": "29421e91-5d0a-4d43-eaa2-d5a7c35a0804",
                "colab": {
                    "base_uri": "https://localhost:8080/"
                }
            },
            "outputs": [
                {
                    "output_type": "stream",
                    "name": "stdout",
                    "text": [
                        "pop NOUN\n",
                        "sounds NOUN\n",
                        "recordings NOUN\n",
                        "prices NOUN\n",
                        "filters NOUN\n",
                        "amazon NOUN\n",
                        "pricing NOUN\n"
                    ]
                }
            ],
            "source": [
                "for tok in spacy_process_review:\n",
                "    if tok.pos_ in [\"NOUN\", \"PROPN\"]:\n",
                "        print(tok, tok.pos_)"
            ]
        },
        {
            "cell_type": "markdown",
            "metadata": {
                "id": "B8egPlsuL1C-"
            },
            "source": [
                "<!-- If we look at the next review, we also see something similar! We can see that this review is talking about screens, pop, filter, aroma, etc. This is definetly much faster than reading the entire review! -->"
            ]
        },
        {
            "cell_type": "markdown",
            "metadata": {
                "id": "4eTiwxPTL1C-"
            },
            "source": [
                "But we're still missing out on a lot of context, especially like \"pop\" and \"sounds\" are actually just parts of ONE thing, \"pop sounds\". \n",
                "\n",
                "### It's not just the noun words we need... but entire NOUN PHRASE"
            ]
        },
        {
            "cell_type": "markdown",
            "metadata": {
                "id": "zQ0b4yE8L1C_"
            },
            "source": [
                "### We can achieve this by using constituency parsing. \n",
                "\n",
                "Constituency parsing uses hand built rules. **These rules are often written usin CFG (Context Free Grammer) and Finite Automoata concepts.**\n",
                "\n",
                "The rules could be something simple like \"NP -> Noun Noun\". This basically means that 2 Nouns together, constitutes a Noun Phrase (NP)\n",
                "\n",
                "In reality though, it would look something like this, and be resolved using CFG rules\n",
                "```\n",
                "NP -> Noun\n",
                "NP -> PropN\n",
                "NP -> Adj [Adp] NP\n",
                "```"
            ]
        },
        {
            "cell_type": "markdown",
            "metadata": {
                "id": "jE1RpUsgL1C_"
            },
            "source": [
                "![img](https://cdn.analyticsvidhya.com/wp-content/uploads/2020/07/np5.png)"
            ]
        },
        {
            "cell_type": "markdown",
            "metadata": {
                "id": "GWgFlzJbL1C_"
            },
            "source": [
                "If you use spacy, though, you don't need to worry about writing your own rules for getting Noun Phrases. "
            ]
        },
        {
            "cell_type": "markdown",
            "metadata": {
                "id": "V_FEgkoBL1C_"
            },
            "source": [
                "### Spacy, treats pronouns as nouns as well. \n",
                "While useful in many scenarios, we need to remove these noun chunks. \n",
                "#### Let's exclude all noun chunks which have no NOUN or PROPN.\n",
                "\n",
                "Spacy gives the \"most expansive\", i.e. largest viable noun chunks. This can be very useful in many situation, however ours isn't really one of them.\n",
                "Let's also remove the non-noun parts of the noun-phrase, as our use case doesn't really need that."
            ]
        },
        {
            "cell_type": "code",
            "execution_count": null,
            "metadata": {
                "id": "-bVlH0BIL1DA",
                "outputId": "99b9855c-4a6d-4d8f-c8c0-3cd085b453d9",
                "colab": {
                    "base_uri": "https://localhost:8080/"
                }
            },
            "outputs": [
                {
                    "output_type": "stream",
                    "name": "stdout",
                    "text": [
                        "it ['PRON']\n",
                        "exactly what ['ADV', 'PRON']\n",
                        "it ['PRON']\n",
                        "the pop sounds ['DET', 'NOUN', 'NOUN']\n",
                        "my recordings ['PRON', 'NOUN']\n",
                        "it ['PRON']\n",
                        "the lowest prices ['DET', 'ADJ', 'NOUN']\n",
                        "filters ['NOUN']\n",
                        "amazon ['NOUN']\n",
                        "it ['PRON']\n",
                        "they ['PRON']\n",
                        "their pricing ['PRON', 'NOUN']\n"
                    ]
                }
            ],
            "source": [
                "for c in spacy_process_review.noun_chunks:\n",
                "    print(c, [t.pos_ for t in c])"
            ]
        },
        {
            "cell_type": "code",
            "execution_count": null,
            "metadata": {
                "id": "JdYgK9FZL1DA"
            },
            "outputs": [],
            "source": [
                "noun_checker = lambda x: any()"
            ]
        },
        {
            "cell_type": "code",
            "execution_count": null,
            "metadata": {
                "id": "le6HQB2BL1DA",
                "outputId": "4400982d-49fa-4ba1-8419-0529f0ef7abb",
                "colab": {
                    "base_uri": "https://localhost:8080/"
                }
            },
            "outputs": [
                {
                    "output_type": "stream",
                    "name": "stdout",
                    "text": [
                        "['pop', 'sounds']\n",
                        "['recordings']\n",
                        "['prices']\n",
                        "['filters']\n",
                        "['amazon']\n",
                        "['pricing']\n"
                    ]
                }
            ],
            "source": [
                "for c in spacy_process_review.noun_chunks:\n",
                "    new_nc = [t.text for t in c if t.pos_ in [\"NOUN\", \"PROPN\"]]\n",
                "    if new_nc:\n",
                "        print(new_nc)\n",
                "        "
            ]
        },
        {
            "cell_type": "markdown",
            "metadata": {
                "id": "nka_XYLYL1DA"
            },
            "source": [
                "Looks much better now!"
            ]
        },
        {
            "cell_type": "markdown",
            "metadata": {
                "id": "RVCMfhXzL1DA"
            },
            "source": [
                "#### Let's also filter out the non-noun words from the noun-phrase"
            ]
        },
        {
            "cell_type": "markdown",
            "metadata": {
                "id": "1EUi9o1hL1DA"
            },
            "source": [
                "Before we move on, let's run this on all our reviews once, and see the results"
            ]
        },
        {
            "cell_type": "code",
            "execution_count": null,
            "metadata": {
                "id": "ZEYf3MC-L1DA"
            },
            "outputs": [],
            "source": [
                "def get_noun_phrases(text):\n",
                "    doc = nlp(text)\n",
                "    required_nc = []\n",
                "    for c in doc.noun_chunks:\n",
                "        new_nc = [t.text for t in c if t.pos_ in [\"NOUN\", \"PROPN\"]]\n",
                "        if new_nc:\n",
                "            new_nc_text = \" \".join(new_nc)\n",
                "            required_nc.append(new_nc_text)\n",
                "    return required_nc"
            ]
        },
        {
            "cell_type": "code",
            "execution_count": null,
            "metadata": {
                "id": "p7M5hpPeL1DB"
            },
            "outputs": [],
            "source": [
                "from tqdm.auto import tqdm\n",
                "tqdm.pandas()"
            ]
        },
        {
            "cell_type": "code",
            "execution_count": null,
            "metadata": {
                "id": "BB0cCxj7L1DB",
                "outputId": "834368bc-4e15-4bc5-c517-62e0a9f7386b",
                "colab": {
                    "base_uri": "https://localhost:8080/",
                    "height": 49,
                    "referenced_widgets": [
                        "5ef40da371fe43fdb05d1770a86445d1",
                        "175e16415eac4523bdb7a8e277f3ee16",
                        "041603fbd0434e619c6744af600d1d25",
                        "b133521aab084ed49bdbd6f599174ffa",
                        "3f9426c3c0cf44ccaa5c6230fcf759c3",
                        "851ecabdf1914f8b8976c2f5892472a3",
                        "dbc647f7313e428c81ffeb503321c6e7",
                        "4597187f878741b785ea3abc91bbb6f3",
                        "be8394fcc8084a15b6712d473b7b175d",
                        "b12b4e3a9fed41e488758835854ba83a",
                        "024382efb48e48f6b352427858e20aad"
                    ]
                }
            },
            "outputs": [
                {
                    "output_type": "display_data",
                    "data": {
                        "text/plain": [
                            "  0%|          | 0/10261 [00:00<?, ?it/s]"
                        ],
                        "application/vnd.jupyter.widget-view+json": {
                            "version_major": 2,
                            "version_minor": 0,
                            "model_id": "5ef40da371fe43fdb05d1770a86445d1"
                        }
                    },
                    "metadata": {}
                }
            ],
            "source": [
                "review_data[\"noun_phrases\"] = review_data[\"reviewText\"].progress_apply(get_noun_phrases)"
            ]
        },
        {
            "cell_type": "markdown",
            "metadata": {
                "id": "5wWF2_5-L1DB"
            },
            "source": [
                "This looks so much more usable! Now if we run a counter on it again..."
            ]
        },
        {
            "cell_type": "code",
            "execution_count": null,
            "metadata": {
                "id": "OUl9eM82L1DB",
                "outputId": "a247cf1b-7177-4d45-e6d1-a46135b049d9",
                "colab": {
                    "base_uri": "https://localhost:8080/"
                }
            },
            "outputs": [
                {
                    "output_type": "execute_result",
                    "data": {
                        "text/plain": [
                            "0        [pop sounds, recordings, prices, filters, amaz...\n",
                            "1        [product, bonus, screens, hint, smell, grape c...\n",
                            "2        [job, device, breath, popping sound, voice, re...\n",
                            "3        [MXL mic, pops, thing, gooseneck, screen, posi...\n",
                            "4                [pop filter, studio filter, vocals, pops]\n",
                            "                               ...                        \n",
                            "10256                                                   []\n",
                            "10257    [Nanoweb strings, while, price, strings, comme...\n",
                            "10258    [strings, past, Elixirs, disconnect, guitar, c...\n",
                            "10259    [Elixir, DEVELOPED, Taylor Guitars, strings, R...\n",
                            "10260    [strings, unwound strings, complaint, strings,...\n",
                            "Name: noun_phrases, Length: 10261, dtype: object"
                        ]
                    },
                    "metadata": {},
                    "execution_count": 31
                }
            ],
            "source": [
                "review_data[\"noun_phrases\"]"
            ]
        },
        {
            "cell_type": "markdown",
            "metadata": {
                "id": "M7NPTx6-L1DB"
            },
            "source": [
                "#### Now this looks much better! \n",
                "#### It seems like most people are talking about the guitars, strings, the pricing, how they sound, how much amp the devices have, thier tones etc.\n",
                "\n",
                "Much more useful than the previous iterations!"
            ]
        },
        {
            "cell_type": "code",
            "execution_count": null,
            "metadata": {
                "id": "mWUYOt-PL1DB",
                "outputId": "63c26701-4282-4fb2-83e7-d46cc11dea10",
                "colab": {
                    "base_uri": "https://localhost:8080/"
                }
            },
            "outputs": [
                {
                    "output_type": "execute_result",
                    "data": {
                        "text/plain": [
                            "[('guitar', 3212),\n",
                            " ('strings', 2526),\n",
                            " ('price', 1795),\n",
                            " ('sound', 1698),\n",
                            " ('pedal', 1539),\n",
                            " ('one', 1256),\n",
                            " ('amp', 1173),\n",
                            " ('time', 1146),\n",
                            " ('tone', 1042),\n",
                            " ('guitars', 984)]"
                        ]
                    },
                    "metadata": {},
                    "execution_count": 32
                }
            ],
            "source": [
                "counter_all = Counter(flatten(review_data[\"noun_phrases\"].tolist()))\n",
                "counter_all.most_common(10)"
            ]
        },
        {
            "cell_type": "markdown",
            "metadata": {
                "id": "dD3HWw-hL1DC"
            },
            "source": [
                "But... these still aren't very actionable.\n",
                "#### For example, we still don't know what are people talking about regarding guitars? What word/words is it related to?"
            ]
        },
        {
            "cell_type": "markdown",
            "metadata": {
                "id": "RJjVDVHEL1DC"
            },
            "source": [
                "### For this, we can use something called as Dependency Parsing. \n",
                "\n",
                "In Dependecny Parsing, each SENTENCE is converted to a TREE, where every word is connected to some other words based on \"grammatical closeness\""
            ]
        },
        {
            "cell_type": "markdown",
            "metadata": {
                "id": "KGZNZXGkL1DC"
            },
            "source": [
                "### Dependency trees can be visualized at (https://explosion.ai/demos/displacy). \n",
                "\n",
                "Here, the arrows represent a parent-child relationship. Here the is an arrow \"love\" --> \"learning\" would imply \"love\" is the parent of \"learning\"\n",
                "\n",
                "Let's take a sample sentence and see it's dependencies."
            ]
        },
        {
            "cell_type": "markdown",
            "metadata": {
                "id": "BAscLq7YL1DC"
            },
            "source": [
                "![dep.png](data:image/png;base64,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)"
            ]
        },
        {
            "cell_type": "markdown",
            "metadata": {
                "id": "ETbvtoutL1DC"
            },
            "source": [
                "Here, the word \"love\" has no arrows pointing towards it, making it the ROOT of the tree, (i.e. it has no parent). The ROOT is almost always the main VERB (action). In this example, \"love\" is the main action, with \"love learning\" being the main Verb Phrase.\n",
                "\n",
                "There is a connection of \"love\" --nsubj--> \"We\"\n",
                "\n",
                "This means \"We\" is a child of the word \"love\". In dependency parsing, every parent child relationship has a unique label, which signifies the type of the relationship. This is called as the \"dependency type\".\n",
                "\n",
                "Here, the dependecy type is nsubj. nsubj represents the subject or the thing doing the action or the \"who\" of the action. i.e. Who does \"love learning\"? \"We\" does.\n",
                "\n",
                "Similarly, the \"learning\" --prep--> \"at\" has the dependency type \"prep\" which shows \"where\". The \"at\" --pobj--> \"Scaler Academy\" finished the \"where\" question. i.e. Where does \"love learning\" happen? \"At\". \"At\" where? \"At\" \"Scaler Academy\"."
            ]
        },
        {
            "cell_type": "markdown",
            "metadata": {
                "id": "ktk6rG19L1DC"
            },
            "source": [
                "BTW all POS tags and Dependency labels can be found at https://spacy.io/models/en#en_core_web_sm-labels"
            ]
        },
        {
            "cell_type": "markdown",
            "metadata": {
                "id": "4FWkJhcfL1DC"
            },
            "source": [
                "### Now, let's try to just get the parent of all the noun phrases we got, and attach them?"
            ]
        },
        {
            "cell_type": "code",
            "execution_count": null,
            "metadata": {
                "id": "XBp2GT9yL1DC"
            },
            "outputs": [],
            "source": [
                "def get_noun_phrases_parent(text):\n",
                "    doc = nlp(text)\n",
                "    required_nc = []\n",
                "    for c in doc.noun_chunks:\n",
                "        nc_parent = c.root.head\n",
                "        new_nc = [t.text for t in c if t.pos_ in [\"NOUN\", \"PROPN\"]]\n",
                "        if new_nc:\n",
                "            new_nc_text = \" \".join(new_nc) + \"->\" + nc_parent.text\n",
                "            required_nc.append(new_nc_text)\n",
                "    return required_nc"
            ]
        },
        {
            "cell_type": "code",
            "execution_count": null,
            "metadata": {
                "id": "qI_Z2HVGL1DD",
                "outputId": "5cd18cc7-63bd-42b6-a345-efa8eba86a1a",
                "colab": {
                    "base_uri": "https://localhost:8080/",
                    "height": 49,
                    "referenced_widgets": [
                        "08a3739472c24068b1c99ad934af274f",
                        "17739460427544d19573bfc54acfd3a8",
                        "d5eb0b2ce6a44788a3269de561a4402b",
                        "4b47872c2b5f4d3d8ac7a8f64f6b246c",
                        "25b566bd32674b7cb8c2dd40d845eb99",
                        "3b68f7904fdd4a0fbc2acf963185f5a0",
                        "7bfd02564a7e4bd49704ab03da36527d",
                        "3108c37b839d4ca4b93c3ce6d4060e00",
                        "087c9f22532c4783ae5bb1d7db1aecf4",
                        "4dd51037887f4f2aac0519f1bfa67abd",
                        "d2139265b5cd4bdb93b245dff0f40b1e"
                    ]
                }
            },
            "outputs": [
                {
                    "output_type": "display_data",
                    "data": {
                        "text/plain": [
                            "  0%|          | 0/10261 [00:00<?, ?it/s]"
                        ],
                        "application/vnd.jupyter.widget-view+json": {
                            "version_major": 2,
                            "version_minor": 0,
                            "model_id": "08a3739472c24068b1c99ad934af274f"
                        }
                    },
                    "metadata": {}
                }
            ],
            "source": [
                "review_data[\"noun_phrases_parent\"] = review_data[\"reviewText\"].progress_apply(get_noun_phrases_parent)"
            ]
        },
        {
            "cell_type": "code",
            "execution_count": null,
            "metadata": {
                "id": "W5gNvvUpL1DD",
                "outputId": "a906a2b4-9578-4097-f6c2-edaf501eb75f",
                "colab": {
                    "base_uri": "https://localhost:8080/"
                }
            },
            "outputs": [
                {
                    "output_type": "execute_result",
                    "data": {
                        "text/plain": [
                            "[('price->for', 583),\n",
                            " ('years->for', 503),\n",
                            " ('guitar->on', 400),\n",
                            " ('thing->is', 347),\n",
                            " ('strings->are', 278),\n",
                            " ('pedal->is', 261),\n",
                            " ('guitar->of', 255),\n",
                            " ('tune->in', 255),\n",
                            " ('job->does', 245),\n",
                            " ('strings->of', 242)]"
                        ]
                    },
                    "metadata": {},
                    "execution_count": 35
                }
            ],
            "source": [
                "counter_all = Counter(flatten(review_data[\"noun_phrases_parent\"].tolist()))\n",
                "counter_all.most_common(10)"
            ]
        },
        {
            "cell_type": "markdown",
            "metadata": {
                "id": "AplXX1MkL1DD"
            },
            "source": [
                "### Hmm that turned out to not be adding much information for our purpose\n",
                "We can try more things, for example also looking at at the dependency type of the noun phrase, looking at thier siblings, (i.e. the words that are connected to the parent noun phrase, but not the noun phrase itself). \n",
                "\n",
                "Also, do notice that the counts are now much lower, earlier \"guitar\" had occoured nearly 3000 times, but now the most common set is only at 500 times. "
            ]
        },
        {
            "cell_type": "markdown",
            "metadata": {
                "id": "gdIsZokFL1DD"
            },
            "source": [
                "## Why don't we directly extract the Topic being talked about?\n",
                "### Topic Modelling"
            ]
        },
        {
            "cell_type": "markdown",
            "metadata": {
                "id": "iXb5XFtPL1DD"
            },
            "source": [
                "While we've had some decent results till now, and have seen some of the most important aspects beeing talked about, i.e.  the guitars, strings, the pricing, how they sound, how much amp the devices have, thier tones etc. these stil aren't very general topics."
            ]
        },
        {
            "cell_type": "markdown",
            "metadata": {
                "id": "eQurzb3XL1DD"
            },
            "source": [
                "Maybe we should try to figure out what are topics present in the reviews first? \n",
                "\n",
                "### But what is a topic in the first place?"
            ]
        },
        {
            "cell_type": "markdown",
            "metadata": {
                "id": "yi8eDEZLL1DE"
            },
            "source": [
                "#### Let's define a topic as a set of words that are related to each other in soome way. \n",
                "\n",
                "\n",
                "Example Topic \"Animals\": \"Dog\", \"Cat\", \"Bird\", \"Fish\" etc.\n",
                "\n",
                "But these topics could also be really conceptually complex and specific. \n",
                "\n",
                "Ex: \"Programming Languages used for ML\": \"Python, R, Scala, Julia\"\n",
                "\n",
                "Thus, any arbitrary set of words can be a topic, as long as they're at least somewhat related to each other.\n",
                "\n",
                "Also, there is no constraint that one word can only be a part of one topic. One word could be realted to multiple topics.\n",
                "\n",
                "<!-- 1. Every review will have some set of topics being talked about in it\n",
                "2. For example: Topics could be: \"Guitar\", \"Pitch\", \"Sound\", \"Sturdiness\" etc.\n",
                "3. Each review could be defined as: 50% \"Guitar\" + 20% \"Pitch\" + 20% \"Sound\" + 10% \"Sturdiness\" etc.\n",
                "4. Each topic will have a collection of words that are related to it\n",
                "5. Because that's how we've defined a topic\n",
                "6. Using each topic, we will \"generate\" the review.  -->\n"
            ]
        },
        {
            "cell_type": "markdown",
            "metadata": {
                "id": "4QMTUARUL1DE"
            },
            "source": [
                "Can we exploit this definition of a topic somehow? What would a review be, in terms of topics?\n",
                "\n",
                "### Could we define a review as a set of topics? Let's say Topics could be: \"Guitar\", \"Amp\", \"Sound\", \"Price\", \"Tone\" etc.\n",
                "\n",
                "Let's first imagine the review as just a bag of words, where order doesn't matter. Could we collect words such that all words would be coming from a topic, as a topic is nothing but a set of words?\n",
                "\n",
                "If we're able to put 50% of words to \"Guitar\" topic, 20% to \"Amp\", could we define the review to be a simple collection of topics? \n",
                "\n",
                "A review could be defined as something like: 50% \"Guitar\" + 20% \"Amp\" + 20% \"Sound\" + 5% \"Price\" etc.?\n"
            ]
        },
        {
            "cell_type": "markdown",
            "metadata": {
                "id": "8PEfLQ_UL1DE"
            },
            "source": [
                "![img](https://miro.medium.com/max/1050/1*2uj6t3gNv76SpHrWf5-z-A.jpeg)"
            ]
        },
        {
            "cell_type": "markdown",
            "metadata": {
                "id": "MlzlIgIhL1DE"
            },
            "source": [
                "This re-definition of a review/document forms the very basis of a concept called as \"Topic Modelling\" where we try to find the topics in a set of document, by redifining the documents as a set of topics instead of a set of words."
            ]
        },
        {
            "cell_type": "markdown",
            "metadata": {
                "id": "ThriEZYmL1DE"
            },
            "source": [
                "### Let's use the topic definition for directly extracting topics\n",
                "LDA or Latent Dirichlet Allocation is a topic modelling algorithm, and one of the simplest topic modelling algorithms. \n",
                "\n",
                "In this, we model this document->topic and topic->word allocation as probability distributions, specifically Dirichlet distributions. \n",
                "\n",
                "<!-- For example: Let's assume we have a topic like `Guitar, Violin, Sita, Harp`. Remember, a topic is just a set of interconnected words.  -->\n",
                "\n",
                "<!-- We have a prior hyper-parameters which we use initialize, for both Document->topic and Topic->word distributions. -->"
            ]
        },
        {
            "cell_type": "markdown",
            "metadata": {
                "id": "Db05BBMUL1DE"
            },
            "source": [
                "We use 2 hyper-params $\\alpha$ and $\\eta$, which we use to initialize Document-Topic distribution and Topic-word distributions respectively"
            ]
        },
        {
            "cell_type": "markdown",
            "metadata": {
                "id": "vxH10YHRL1DE"
            },
            "source": [
                "## An analogy of LDA could be like this:\n",
                "1. Let's say we have to extract 3 topics from a set of documents. \n",
                "2. Let's imagine we have a basket, corrosponding to which topic goes in what document\n",
                "   1. For each document, we would pick some balls (say 10) from this topic. Each ball represents a topic.\n",
                "   2. If say, 8/10 balls belong to **Sport** topic, and 2/10 balls belong to **Animals** topic, we'd say that the document is 80% **Sport** + 20% **Animals**\n",
                "   3. The \"person\" who sets and initialises how many balls of each topic into the basket is $\\alpha$, our hyperparamter\n",
                "3. Let's imagine we have 3 more baskets, each of them corrosponding to one of the topics. \n",
                "   1. In each basket, we have some balls, with each ball corrosponding to a word. There could be multiple or 0 balls for any word in a basket, and the same word ball can be in several baskets\n",
                "   2. Each basket can contain different proportions of each ball, example the basket for the topic **Sport** might contain many balls for *Olympics*, *Playing*, *Cricket* etc. But it would probably not contain any ball for *Cats*\n",
                "   3. The \"person\" who sets and initialises which balls go into each basket is $\\eta$, our second hyperparamter\n",
                "4. We re-imagine the document creation process using these baskets. Recall, that in LDA we consider the document as just a bag of words, without any order.\n",
                "   1. For every document, we pick up some number of balls (say 10) from the topics basket. Let's say we got 8/10 from **Sport** and 2/10 from **Animals**\n",
                "   2. We'll then go *8* times to the **Sport** Basket, and pick up some word balls (say 10) each time we go to the basket. We'd also go to *2* times to the **Animals** basket, picking up the same number of word balls for that document.\n",
                "   3. Now, for the document we have the bag-of-words we'd get using the current topic assigned. \n",
                "5. We can now compare this generated bag-of-words document to our existing bag-of-words document. \n",
                "   1. We can now use this comparision to come up with something analagous to a loss function, and optimise the baskets to minimise this loss function."
            ]
        },
        {
            "cell_type": "markdown",
            "metadata": {
                "id": "wCcuKg1GL1DE"
            },
            "source": [
                "![img](https://miro.medium.com/max/1050/1*fCc0JT3W-1ViYyw0hJ7rdA.jpeg)"
            ]
        },
        {
            "cell_type": "markdown",
            "metadata": {
                "id": "0au5ZUsKL1DF"
            },
            "source": [
                "Below is a more technical version of the same algo, for a better understanding of the document generation process\n",
                "Given\n",
                "- $k$: Number of Topics\n",
                "- $V$: Number of unique words (Vocabulary) \n",
                "- $M$: Number of documents\n",
                "- $N$: Number of words in each document\n",
                "- $M^{\\prime}: M \\times N \\times V$: One-Hot Matrix of Bag of Word Documents\n",
                "  - $M$ documents, each containing $N$ words, where every one of $N$ words in the document be one of $V$ unique words\n",
                "\n",
                "Process:\n",
                "1. We use $\\alpha$ to initialize $\\theta$. $\\theta$ is a probablity distribution matrix (size $k \\times N$ ), where every $\\theta_{i,j}$ is the probability of topic $j$ being in document $i$\n",
                "   1. Similar to sampling from first basket above.\n",
                "2. For a single document (i.e. one row of $theta$) we sample the topic for each of the $N$ words for the document using it's row in $\\theta$. Each word is assigned to a topic, based on the row from $\\theta$. We call this One-hot matrix $z$\n",
                "3. We also use $\\eta$ to initialize $\\beta$. $\\beta$ is a probablity distribution matrix (size $k \\times V$ ), where every $\\beta_{i,j}$ is the probability of word $j$ being in topic $i$\n",
                "   1. Similar to sampling from each baskets above.\n",
                "4. Now, we can use $z$ and $\\beta$ to sample the bag of words document. For each word in $N$, we sample the word from $\\beta$ using the topic it was assigned to in $z$, generating the final document matrix $N \\times V$\n",
                "5. We do steps 2-4 for each document in $M$, generating a $N \\times V$ matrix each time. We finally obtain the $M \\times N \\times V$ generated documents.\n",
                "6. We can now compare and optimize this process using the document matrix we already had"
            ]
        },
        {
            "cell_type": "markdown",
            "metadata": {
                "id": "U9b9SK4hL1DF"
            },
            "source": [
                "![img](https://miro.medium.com/max/1050/1*WGsNq9tjIwhGMCEthvAmVw.jpeg)"
            ]
        },
        {
            "cell_type": "markdown",
            "metadata": {
                "id": "bybAPoN1L1DF"
            },
            "source": [
                "For the optimization process, we usually use KL divergence as the Loss function.\n",
                "\n",
                "For the sampling process, we use the drichlet distribution to get $\\theta$ from $\\alpha$. Drichlet distribution is a distribution used when you want to get probabilities in a category. \n",
                "\n",
                "\n",
                "Below are several visulaization of drichlet distribution at different $\\alpha$ for 3 topics"
            ]
        },
        {
            "cell_type": "markdown",
            "metadata": {
                "id": "_F57Kcd8L1DF"
            },
            "source": [
                "![img](https://upload.wikimedia.org/wikipedia/commons/thumb/7/74/Dirichlet.pdf/page1-1125px-Dirichlet.pdf.jpg)"
            ]
        },
        {
            "cell_type": "markdown",
            "metadata": {
                "id": "n7euvHW3L1DF"
            },
            "source": [
                "### Doing ALL of the above in python\n",
                "\n",
                "Okay... how would you do use this in practice? We can just directly use the `gensim` library's LDA implimentation"
            ]
        },
        {
            "cell_type": "code",
            "execution_count": null,
            "metadata": {
                "id": "7kA5rve-L1DF"
            },
            "outputs": [],
            "source": [
                "from gensim.corpora.dictionary import Dictionary\n",
                "from gensim.models import LdaModel"
            ]
        },
        {
            "cell_type": "markdown",
            "metadata": {
                "id": "n3Nlv0WfL1DF"
            },
            "source": [
                "### Let's first convert the data into a bag of words document matrix, so we can pass it to the LDAModel.\n",
                "\n",
                "For this, we'd have to build, the vocabulary, i.e. set of unique words. We can then use this Vocab to convert each document to bag of words."
            ]
        },
        {
            "cell_type": "markdown",
            "metadata": {
                "id": "su6a5k1iL1DG"
            },
            "source": [
                "However, genesim's LDA models don't directly deal with strings, they take list of strings, i.e. pre-tokenized documents.\n",
                "\n",
                "Let's use the same tokenized and stopword removed, we first used."
            ]
        },
        {
            "cell_type": "code",
            "execution_count": null,
            "metadata": {
                "id": "Ierm6OiEL1DG"
            },
            "outputs": [],
            "source": [
                "tokenized_clean_reviews = review_data[\"reviewText\"].apply(tokenize_clean)"
            ]
        },
        {
            "cell_type": "code",
            "execution_count": null,
            "metadata": {
                "id": "NxpIh2gHL1DI",
                "outputId": "d28d09bc-5c9a-4bf1-db10-2fe70525f2c4",
                "colab": {
                    "base_uri": "https://localhost:8080/"
                }
            },
            "outputs": [
                {
                    "output_type": "execute_result",
                    "data": {
                        "text/plain": [
                            "0        [much, write, exactly, supposed, filters, pop,...\n",
                            "1        [product, exactly, quite, realized, double, sc...\n",
                            "2        [primary, job, device, block, breath, would, o...\n",
                            "3        [nice, windscreen, protects, mxl, mic, prevent...\n",
                            "4        [pop, filter, great, looks, performs, like, st...\n",
                            "                               ...                        \n",
                            "10256                             [great, expected, thank]\n",
                            "10257    [thinking, trying, nanoweb, strings, bit, put,...\n",
                            "10258    [tried, coated, strings, past, including, elix...\n",
                            "10259    [well, made, elixir, developed, taylor, guitar...\n",
                            "10260    [strings, really, quite, good, would, call, pe...\n",
                            "Name: reviewText, Length: 10261, dtype: object"
                        ]
                    },
                    "metadata": {},
                    "execution_count": 38
                }
            ],
            "source": [
                "tokenized_clean_reviews"
            ]
        },
        {
            "cell_type": "code",
            "execution_count": null,
            "metadata": {
                "id": "JETH-PhOL1DJ",
                "outputId": "979e3309-407d-47c6-9021-70d8831ac82b",
                "colab": {
                    "base_uri": "https://localhost:8080/"
                }
            },
            "outputs": [
                {
                    "output_type": "execute_result",
                    "data": {
                        "text/plain": [
                            "<gensim.corpora.dictionary.Dictionary at 0x7fb798940fd0>"
                        ]
                    },
                    "metadata": {},
                    "execution_count": 39
                }
            ],
            "source": [
                "vocabulary = Dictionary(tokenized_clean_reviews)\n",
                "vocabulary"
            ]
        },
        {
            "cell_type": "markdown",
            "metadata": {
                "id": "R8f-QzB2L1DJ"
            },
            "source": [
                "### We can then directly use the `doc2bow` of the vocabulary to convert the document to a BOW"
            ]
        },
        {
            "cell_type": "code",
            "execution_count": null,
            "metadata": {
                "id": "280kSjMiL1DJ"
            },
            "outputs": [],
            "source": [
                "bag_of_words_documents = [vocabulary.doc2bow(text) for text in tokenized_clean_reviews]\n",
                "# bag_of_words_documents"
            ]
        },
        {
            "cell_type": "markdown",
            "metadata": {
                "id": "649zdsFlL1DJ"
            },
            "source": [
                "Let's train for 10 topics now!"
            ]
        },
        {
            "cell_type": "code",
            "execution_count": null,
            "metadata": {
                "id": "5WQ5smjcL1DJ",
                "colab": {
                    "base_uri": "https://localhost:8080/"
                },
                "outputId": "44dae3a7-0ab8-4bc7-fa4e-9378b4bc45e4"
            },
            "outputs": [
                {
                    "output_type": "stream",
                    "name": "stderr",
                    "text": [
                        "WARNING:gensim.models.ldamodel:too few updates, training might not converge; consider increasing the number of passes or iterations to improve accuracy\n"
                    ]
                }
            ],
            "source": [
                "lda = LdaModel(bag_of_words_documents, num_topics=10, id2word=vocabulary)"
            ]
        },
        {
            "cell_type": "markdown",
            "metadata": {
                "id": "aiqoAUmTL1DJ"
            },
            "source": [
                "And let's see the topics. \n",
                "\n",
                "### The number in front of each word represents the *contribution* of each word in that topic. \n",
                "\n",
                "### Looks like the topics are about Mics, Guitars, Guitar Capos, Guitar picks, Tuning, Pedels and Amp etc. \n",
                "\n",
                "### This definetly helps us answer \"What is being talked about in the reviews?\"!"
            ]
        },
        {
            "cell_type": "code",
            "execution_count": null,
            "metadata": {
                "id": "OaBkU_jmL1DK",
                "outputId": "3004da5a-7c6a-4918-c7e2-7b55ef32d2da",
                "colab": {
                    "base_uri": "https://localhost:8080/"
                }
            },
            "outputs": [
                {
                    "output_type": "execute_result",
                    "data": {
                        "text/plain": [
                            "[(0,\n",
                            "  '0.053*\"strings\" + 0.017*\"sound\" + 0.013*\"great\" + 0.012*\"string\" + 0.012*\"long\" + 0.011*\"tuner\" + 0.011*\"guitar\" + 0.010*\"time\" + 0.010*\"tone\" + 0.009*\"good\"'),\n",
                            " (1,\n",
                            "  '0.013*\"use\" + 0.011*\"recording\" + 0.010*\"cable\" + 0.008*\"one\" + 0.008*\"would\" + 0.007*\"good\" + 0.007*\"get\" + 0.007*\"interface\" + 0.007*\"quality\" + 0.007*\"device\"'),\n",
                            " (2,\n",
                            "  '0.020*\"pedal\" + 0.017*\"amp\" + 0.014*\"sound\" + 0.012*\"tone\" + 0.010*\"like\" + 0.009*\"great\" + 0.008*\"use\" + 0.008*\"get\" + 0.008*\"good\" + 0.008*\"one\"'),\n",
                            " (3,\n",
                            "  '0.017*\"uke\" + 0.015*\"apogee\" + 0.015*\"guitar\" + 0.013*\"ukulele\" + 0.010*\"one\" + 0.009*\"case\" + 0.007*\"like\" + 0.007*\"use\" + 0.006*\"fits\" + 0.006*\"layers\"'),\n",
                            " (4,\n",
                            "  '0.041*\"strap\" + 0.025*\"guitar\" + 0.012*\"button\" + 0.011*\"good\" + 0.011*\"leather\" + 0.007*\"great\" + 0.007*\"fine\" + 0.007*\"like\" + 0.007*\"would\" + 0.006*\"wall\"'),\n",
                            " (5,\n",
                            "  '0.033*\"stand\" + 0.016*\"well\" + 0.011*\"use\" + 0.008*\"stands\" + 0.008*\"mic\" + 0.007*\"one\" + 0.007*\"sturdy\" + 0.006*\"works\" + 0.006*\"enough\" + 0.006*\"music\"'),\n",
                            " (6,\n",
                            "  '0.020*\"guitar\" + 0.016*\"strings\" + 0.012*\"one\" + 0.011*\"like\" + 0.009*\"capo\" + 0.008*\"good\" + 0.007*\"great\" + 0.007*\"use\" + 0.007*\"would\" + 0.007*\"guitars\"'),\n",
                            " (7,\n",
                            "  '0.024*\"great\" + 0.020*\"works\" + 0.014*\"one\" + 0.012*\"product\" + 0.011*\"well\" + 0.009*\"use\" + 0.008*\"little\" + 0.008*\"get\" + 0.008*\"would\" + 0.007*\"work\"'),\n",
                            " (8,\n",
                            "  '0.027*\"tascam\" + 0.013*\"one\" + 0.011*\"use\" + 0.011*\"capo\" + 0.010*\"great\" + 0.009*\"screen\" + 0.009*\"looper\" + 0.007*\"clip\" + 0.007*\"like\" + 0.006*\"many\"'),\n",
                            " (9,\n",
                            "  '0.013*\"sound\" + 0.012*\"guitar\" + 0.010*\"quality\" + 0.010*\"good\" + 0.008*\"price\" + 0.008*\"well\" + 0.008*\"like\" + 0.007*\"one\" + 0.007*\"great\" + 0.007*\"get\"')]"
                        ]
                    },
                    "metadata": {},
                    "execution_count": 42
                }
            ],
            "source": [
                "lda.print_topics()"
            ]
        },
        {
            "cell_type": "markdown",
            "source": [
                "### Conclusion\n",
                "- Parts Of Speech tagging marks a word in the text as corresponding to a particular part of speech.\n",
                "- Spacy internally uses Probabilistic HMMs or Sequential Neural Nets to perform POS tagging.\n",
                "- Constituency parsing & Dependancy trees can be used for topic modeling. However, their performance and capacity are limited.\n",
                "- Latent Dirichlet Algorithm is a simple, yet powerful algorithm for topic modeling."
            ],
            "metadata": {
                "id": "lapZr61lXsIn"
            }
        }
    ],
    "metadata": {
        "colab": {
            "provenance": [],
            "collapsed_sections": []
        },
        "interpreter": {
            "hash": "bac6a46dc411408a3e3233af394ebac46aaa0c360651cbf239be372bf7db11f7"
        },
        "kernelspec": {
            "display_name": "Python 3 (ipykernel)",
            "language": "python",
            "name": "python3"
        },
        "language_info": {
            "codemirror_mode": {
                "name": "ipython",
                "version": 3
            },
            "file_extension": ".py",
            "mimetype": "text/x-python",
            "name": "python",
            "nbconvert_exporter": "python",
            "pygments_lexer": "ipython3",
            "version": "3.10.6"
        },
        "widgets": {
            "application/vnd.jupyter.widget-state+json": {
                "5ef40da371fe43fdb05d1770a86445d1": {
                    "model_module": "@jupyter-widgets/controls",
                    "model_name": "HBoxModel",
                    "model_module_version": "1.5.0",
                    "state": {
                        "_dom_classes": [],
                        "_model_module": "@jupyter-widgets/controls",
                        "_model_module_version": "1.5.0",
                        "_model_name": "HBoxModel",
                        "_view_count": null,
                        "_view_module": "@jupyter-widgets/controls",
                        "_view_module_version": "1.5.0",
                        "_view_name": "HBoxView",
                        "box_style": "",
                        "children": [
                            "IPY_MODEL_175e16415eac4523bdb7a8e277f3ee16",
                            "IPY_MODEL_041603fbd0434e619c6744af600d1d25",
                            "IPY_MODEL_b133521aab084ed49bdbd6f599174ffa"
                        ],
                        "layout": "IPY_MODEL_3f9426c3c0cf44ccaa5c6230fcf759c3"
                    }
                },
                "175e16415eac4523bdb7a8e277f3ee16": {
                    "model_module": "@jupyter-widgets/controls",
                    "model_name": "HTMLModel",
                    "model_module_version": "1.5.0",
                    "state": {
                        "_dom_classes": [],
                        "_model_module": "@jupyter-widgets/controls",
                        "_model_module_version": "1.5.0",
                        "_model_name": "HTMLModel",
                        "_view_count": null,
                        "_view_module": "@jupyter-widgets/controls",
                        "_view_module_version": "1.5.0",
                        "_view_name": "HTMLView",
                        "description": "",
                        "description_tooltip": null,
                        "layout": "IPY_MODEL_851ecabdf1914f8b8976c2f5892472a3",
                        "placeholder": "​",
                        "style": "IPY_MODEL_dbc647f7313e428c81ffeb503321c6e7",
                        "value": "100%"
                    }
                },
                "041603fbd0434e619c6744af600d1d25": {
                    "model_module": "@jupyter-widgets/controls",
                    "model_name": "FloatProgressModel",
                    "model_module_version": "1.5.0",
                    "state": {
                        "_dom_classes": [],
                        "_model_module": "@jupyter-widgets/controls",
                        "_model_module_version": "1.5.0",
                        "_model_name": "FloatProgressModel",
                        "_view_count": null,
                        "_view_module": "@jupyter-widgets/controls",
                        "_view_module_version": "1.5.0",
                        "_view_name": "ProgressView",
                        "bar_style": "success",
                        "description": "",
                        "description_tooltip": null,
                        "layout": "IPY_MODEL_4597187f878741b785ea3abc91bbb6f3",
                        "max": 10261,
                        "min": 0,
                        "orientation": "horizontal",
                        "style": "IPY_MODEL_be8394fcc8084a15b6712d473b7b175d",
                        "value": 10261
                    }
                },
                "b133521aab084ed49bdbd6f599174ffa": {
                    "model_module": "@jupyter-widgets/controls",
                    "model_name": "HTMLModel",
                    "model_module_version": "1.5.0",
                    "state": {
                        "_dom_classes": [],
                        "_model_module": "@jupyter-widgets/controls",
                        "_model_module_version": "1.5.0",
                        "_model_name": "HTMLModel",
                        "_view_count": null,
                        "_view_module": "@jupyter-widgets/controls",
                        "_view_module_version": "1.5.0",
                        "_view_name": "HTMLView",
                        "description": "",
                        "description_tooltip": null,
                        "layout": "IPY_MODEL_b12b4e3a9fed41e488758835854ba83a",
                        "placeholder": "​",
                        "style": "IPY_MODEL_024382efb48e48f6b352427858e20aad",
                        "value": " 10261/10261 [04:42&lt;00:00, 25.86it/s]"
                    }
                },
                "3f9426c3c0cf44ccaa5c6230fcf759c3": {
                    "model_module": "@jupyter-widgets/base",
                    "model_name": "LayoutModel",
                    "model_module_version": "1.2.0",
                    "state": {
                        "_model_module": "@jupyter-widgets/base",
                        "_model_module_version": "1.2.0",
                        "_model_name": "LayoutModel",
                        "_view_count": null,
                        "_view_module": "@jupyter-widgets/base",
                        "_view_module_version": "1.2.0",
                        "_view_name": "LayoutView",
                        "align_content": null,
                        "align_items": null,
                        "align_self": null,
                        "border": null,
                        "bottom": null,
                        "display": null,
                        "flex": null,
                        "flex_flow": null,
                        "grid_area": null,
                        "grid_auto_columns": null,
                        "grid_auto_flow": null,
                        "grid_auto_rows": null,
                        "grid_column": null,
                        "grid_gap": null,
                        "grid_row": null,
                        "grid_template_areas": null,
                        "grid_template_columns": null,
                        "grid_template_rows": null,
                        "height": null,
                        "justify_content": null,
                        "justify_items": null,
                        "left": null,
                        "margin": null,
                        "max_height": null,
                        "max_width": null,
                        "min_height": null,
                        "min_width": null,
                        "object_fit": null,
                        "object_position": null,
                        "order": null,
                        "overflow": null,
                        "overflow_x": null,
                        "overflow_y": null,
                        "padding": null,
                        "right": null,
                        "top": null,
                        "visibility": null,
                        "width": null
                    }
                },
                "851ecabdf1914f8b8976c2f5892472a3": {
                    "model_module": "@jupyter-widgets/base",
                    "model_name": "LayoutModel",
                    "model_module_version": "1.2.0",
                    "state": {
                        "_model_module": "@jupyter-widgets/base",
                        "_model_module_version": "1.2.0",
                        "_model_name": "LayoutModel",
                        "_view_count": null,
                        "_view_module": "@jupyter-widgets/base",
                        "_view_module_version": "1.2.0",
                        "_view_name": "LayoutView",
                        "align_content": null,
                        "align_items": null,
                        "align_self": null,
                        "border": null,
                        "bottom": null,
                        "display": null,
                        "flex": null,
                        "flex_flow": null,
                        "grid_area": null,
                        "grid_auto_columns": null,
                        "grid_auto_flow": null,
                        "grid_auto_rows": null,
                        "grid_column": null,
                        "grid_gap": null,
                        "grid_row": null,
                        "grid_template_areas": null,
                        "grid_template_columns": null,
                        "grid_template_rows": null,
                        "height": null,
                        "justify_content": null,
                        "justify_items": null,
                        "left": null,
                        "margin": null,
                        "max_height": null,
                        "max_width": null,
                        "min_height": null,
                        "min_width": null,
                        "object_fit": null,
                        "object_position": null,
                        "order": null,
                        "overflow": null,
                        "overflow_x": null,
                        "overflow_y": null,
                        "padding": null,
                        "right": null,
                        "top": null,
                        "visibility": null,
                        "width": null
                    }
                },
                "dbc647f7313e428c81ffeb503321c6e7": {
                    "model_module": "@jupyter-widgets/controls",
                    "model_name": "DescriptionStyleModel",
                    "model_module_version": "1.5.0",
                    "state": {
                        "_model_module": "@jupyter-widgets/controls",
                        "_model_module_version": "1.5.0",
                        "_model_name": "DescriptionStyleModel",
                        "_view_count": null,
                        "_view_module": "@jupyter-widgets/base",
                        "_view_module_version": "1.2.0",
                        "_view_name": "StyleView",
                        "description_width": ""
                    }
                },
                "4597187f878741b785ea3abc91bbb6f3": {
                    "model_module": "@jupyter-widgets/base",
                    "model_name": "LayoutModel",
                    "model_module_version": "1.2.0",
                    "state": {
                        "_model_module": "@jupyter-widgets/base",
                        "_model_module_version": "1.2.0",
                        "_model_name": "LayoutModel",
                        "_view_count": null,
                        "_view_module": "@jupyter-widgets/base",
                        "_view_module_version": "1.2.0",
                        "_view_name": "LayoutView",
                        "align_content": null,
                        "align_items": null,
                        "align_self": null,
                        "border": null,
                        "bottom": null,
                        "display": null,
                        "flex": null,
                        "flex_flow": null,
                        "grid_area": null,
                        "grid_auto_columns": null,
                        "grid_auto_flow": null,
                        "grid_auto_rows": null,
                        "grid_column": null,
                        "grid_gap": null,
                        "grid_row": null,
                        "grid_template_areas": null,
                        "grid_template_columns": null,
                        "grid_template_rows": null,
                        "height": null,
                        "justify_content": null,
                        "justify_items": null,
                        "left": null,
                        "margin": null,
                        "max_height": null,
                        "max_width": null,
                        "min_height": null,
                        "min_width": null,
                        "object_fit": null,
                        "object_position": null,
                        "order": null,
                        "overflow": null,
                        "overflow_x": null,
                        "overflow_y": null,
                        "padding": null,
                        "right": null,
                        "top": null,
                        "visibility": null,
                        "width": null
                    }
                },
                "be8394fcc8084a15b6712d473b7b175d": {
                    "model_module": "@jupyter-widgets/controls",
                    "model_name": "ProgressStyleModel",
                    "model_module_version": "1.5.0",
                    "state": {
                        "_model_module": "@jupyter-widgets/controls",
                        "_model_module_version": "1.5.0",
                        "_model_name": "ProgressStyleModel",
                        "_view_count": null,
                        "_view_module": "@jupyter-widgets/base",
                        "_view_module_version": "1.2.0",
                        "_view_name": "StyleView",
                        "bar_color": null,
                        "description_width": ""
                    }
                },
                "b12b4e3a9fed41e488758835854ba83a": {
                    "model_module": "@jupyter-widgets/base",
                    "model_name": "LayoutModel",
                    "model_module_version": "1.2.0",
                    "state": {
                        "_model_module": "@jupyter-widgets/base",
                        "_model_module_version": "1.2.0",
                        "_model_name": "LayoutModel",
                        "_view_count": null,
                        "_view_module": "@jupyter-widgets/base",
                        "_view_module_version": "1.2.0",
                        "_view_name": "LayoutView",
                        "align_content": null,
                        "align_items": null,
                        "align_self": null,
                        "border": null,
                        "bottom": null,
                        "display": null,
                        "flex": null,
                        "flex_flow": null,
                        "grid_area": null,
                        "grid_auto_columns": null,
                        "grid_auto_flow": null,
                        "grid_auto_rows": null,
                        "grid_column": null,
                        "grid_gap": null,
                        "grid_row": null,
                        "grid_template_areas": null,
                        "grid_template_columns": null,
                        "grid_template_rows": null,
                        "height": null,
                        "justify_content": null,
                        "justify_items": null,
                        "left": null,
                        "margin": null,
                        "max_height": null,
                        "max_width": null,
                        "min_height": null,
                        "min_width": null,
                        "object_fit": null,
                        "object_position": null,
                        "order": null,
                        "overflow": null,
                        "overflow_x": null,
                        "overflow_y": null,
                        "padding": null,
                        "right": null,
                        "top": null,
                        "visibility": null,
                        "width": null
                    }
                },
                "024382efb48e48f6b352427858e20aad": {
                    "model_module": "@jupyter-widgets/controls",
                    "model_name": "DescriptionStyleModel",
                    "model_module_version": "1.5.0",
                    "state": {
                        "_model_module": "@jupyter-widgets/controls",
                        "_model_module_version": "1.5.0",
                        "_model_name": "DescriptionStyleModel",
                        "_view_count": null,
                        "_view_module": "@jupyter-widgets/base",
                        "_view_module_version": "1.2.0",
                        "_view_name": "StyleView",
                        "description_width": ""
                    }
                },
                "08a3739472c24068b1c99ad934af274f": {
                    "model_module": "@jupyter-widgets/controls",
                    "model_name": "HBoxModel",
                    "model_module_version": "1.5.0",
                    "state": {
                        "_dom_classes": [],
                        "_model_module": "@jupyter-widgets/controls",
                        "_model_module_version": "1.5.0",
                        "_model_name": "HBoxModel",
                        "_view_count": null,
                        "_view_module": "@jupyter-widgets/controls",
                        "_view_module_version": "1.5.0",
                        "_view_name": "HBoxView",
                        "box_style": "",
                        "children": [
                            "IPY_MODEL_17739460427544d19573bfc54acfd3a8",
                            "IPY_MODEL_d5eb0b2ce6a44788a3269de561a4402b",
                            "IPY_MODEL_4b47872c2b5f4d3d8ac7a8f64f6b246c"
                        ],
                        "layout": "IPY_MODEL_25b566bd32674b7cb8c2dd40d845eb99"
                    }
                },
                "17739460427544d19573bfc54acfd3a8": {
                    "model_module": "@jupyter-widgets/controls",
                    "model_name": "HTMLModel",
                    "model_module_version": "1.5.0",
                    "state": {
                        "_dom_classes": [],
                        "_model_module": "@jupyter-widgets/controls",
                        "_model_module_version": "1.5.0",
                        "_model_name": "HTMLModel",
                        "_view_count": null,
                        "_view_module": "@jupyter-widgets/controls",
                        "_view_module_version": "1.5.0",
                        "_view_name": "HTMLView",
                        "description": "",
                        "description_tooltip": null,
                        "layout": "IPY_MODEL_3b68f7904fdd4a0fbc2acf963185f5a0",
                        "placeholder": "​",
                        "style": "IPY_MODEL_7bfd02564a7e4bd49704ab03da36527d",
                        "value": "100%"
                    }
                },
                "d5eb0b2ce6a44788a3269de561a4402b": {
                    "model_module": "@jupyter-widgets/controls",
                    "model_name": "FloatProgressModel",
                    "model_module_version": "1.5.0",
                    "state": {
                        "_dom_classes": [],
                        "_model_module": "@jupyter-widgets/controls",
                        "_model_module_version": "1.5.0",
                        "_model_name": "FloatProgressModel",
                        "_view_count": null,
                        "_view_module": "@jupyter-widgets/controls",
                        "_view_module_version": "1.5.0",
                        "_view_name": "ProgressView",
                        "bar_style": "success",
                        "description": "",
                        "description_tooltip": null,
                        "layout": "IPY_MODEL_3108c37b839d4ca4b93c3ce6d4060e00",
                        "max": 10261,
                        "min": 0,
                        "orientation": "horizontal",
                        "style": "IPY_MODEL_087c9f22532c4783ae5bb1d7db1aecf4",
                        "value": 10261
                    }
                },
                "4b47872c2b5f4d3d8ac7a8f64f6b246c": {
                    "model_module": "@jupyter-widgets/controls",
                    "model_name": "HTMLModel",
                    "model_module_version": "1.5.0",
                    "state": {
                        "_dom_classes": [],
                        "_model_module": "@jupyter-widgets/controls",
                        "_model_module_version": "1.5.0",
                        "_model_name": "HTMLModel",
                        "_view_count": null,
                        "_view_module": "@jupyter-widgets/controls",
                        "_view_module_version": "1.5.0",
                        "_view_name": "HTMLView",
                        "description": "",
                        "description_tooltip": null,
                        "layout": "IPY_MODEL_4dd51037887f4f2aac0519f1bfa67abd",
                        "placeholder": "​",
                        "style": "IPY_MODEL_d2139265b5cd4bdb93b245dff0f40b1e",
                        "value": " 10261/10261 [04:08&lt;00:00, 25.99it/s]"
                    }
                },
                "25b566bd32674b7cb8c2dd40d845eb99": {
                    "model_module": "@jupyter-widgets/base",
                    "model_name": "LayoutModel",
                    "model_module_version": "1.2.0",
                    "state": {
                        "_model_module": "@jupyter-widgets/base",
                        "_model_module_version": "1.2.0",
                        "_model_name": "LayoutModel",
                        "_view_count": null,
                        "_view_module": "@jupyter-widgets/base",
                        "_view_module_version": "1.2.0",
                        "_view_name": "LayoutView",
                        "align_content": null,
                        "align_items": null,
                        "align_self": null,
                        "border": null,
                        "bottom": null,
                        "display": null,
                        "flex": null,
                        "flex_flow": null,
                        "grid_area": null,
                        "grid_auto_columns": null,
                        "grid_auto_flow": null,
                        "grid_auto_rows": null,
                        "grid_column": null,
                        "grid_gap": null,
                        "grid_row": null,
                        "grid_template_areas": null,
                        "grid_template_columns": null,
                        "grid_template_rows": null,
                        "height": null,
                        "justify_content": null,
                        "justify_items": null,
                        "left": null,
                        "margin": null,
                        "max_height": null,
                        "max_width": null,
                        "min_height": null,
                        "min_width": null,
                        "object_fit": null,
                        "object_position": null,
                        "order": null,
                        "overflow": null,
                        "overflow_x": null,
                        "overflow_y": null,
                        "padding": null,
                        "right": null,
                        "top": null,
                        "visibility": null,
                        "width": null
                    }
                },
                "3b68f7904fdd4a0fbc2acf963185f5a0": {
                    "model_module": "@jupyter-widgets/base",
                    "model_name": "LayoutModel",
                    "model_module_version": "1.2.0",
                    "state": {
                        "_model_module": "@jupyter-widgets/base",
                        "_model_module_version": "1.2.0",
                        "_model_name": "LayoutModel",
                        "_view_count": null,
                        "_view_module": "@jupyter-widgets/base",
                        "_view_module_version": "1.2.0",
                        "_view_name": "LayoutView",
                        "align_content": null,
                        "align_items": null,
                        "align_self": null,
                        "border": null,
                        "bottom": null,
                        "display": null,
                        "flex": null,
                        "flex_flow": null,
                        "grid_area": null,
                        "grid_auto_columns": null,
                        "grid_auto_flow": null,
                        "grid_auto_rows": null,
                        "grid_column": null,
                        "grid_gap": null,
                        "grid_row": null,
                        "grid_template_areas": null,
                        "grid_template_columns": null,
                        "grid_template_rows": null,
                        "height": null,
                        "justify_content": null,
                        "justify_items": null,
                        "left": null,
                        "margin": null,
                        "max_height": null,
                        "max_width": null,
                        "min_height": null,
                        "min_width": null,
                        "object_fit": null,
                        "object_position": null,
                        "order": null,
                        "overflow": null,
                        "overflow_x": null,
                        "overflow_y": null,
                        "padding": null,
                        "right": null,
                        "top": null,
                        "visibility": null,
                        "width": null
                    }
                },
                "7bfd02564a7e4bd49704ab03da36527d": {
                    "model_module": "@jupyter-widgets/controls",
                    "model_name": "DescriptionStyleModel",
                    "model_module_version": "1.5.0",
                    "state": {
                        "_model_module": "@jupyter-widgets/controls",
                        "_model_module_version": "1.5.0",
                        "_model_name": "DescriptionStyleModel",
                        "_view_count": null,
                        "_view_module": "@jupyter-widgets/base",
                        "_view_module_version": "1.2.0",
                        "_view_name": "StyleView",
                        "description_width": ""
                    }
                },
                "3108c37b839d4ca4b93c3ce6d4060e00": {
                    "model_module": "@jupyter-widgets/base",
                    "model_name": "LayoutModel",
                    "model_module_version": "1.2.0",
                    "state": {
                        "_model_module": "@jupyter-widgets/base",
                        "_model_module_version": "1.2.0",
                        "_model_name": "LayoutModel",
                        "_view_count": null,
                        "_view_module": "@jupyter-widgets/base",
                        "_view_module_version": "1.2.0",
                        "_view_name": "LayoutView",
                        "align_content": null,
                        "align_items": null,
                        "align_self": null,
                        "border": null,
                        "bottom": null,
                        "display": null,
                        "flex": null,
                        "flex_flow": null,
                        "grid_area": null,
                        "grid_auto_columns": null,
                        "grid_auto_flow": null,
                        "grid_auto_rows": null,
                        "grid_column": null,
                        "grid_gap": null,
                        "grid_row": null,
                        "grid_template_areas": null,
                        "grid_template_columns": null,
                        "grid_template_rows": null,
                        "height": null,
                        "justify_content": null,
                        "justify_items": null,
                        "left": null,
                        "margin": null,
                        "max_height": null,
                        "max_width": null,
                        "min_height": null,
                        "min_width": null,
                        "object_fit": null,
                        "object_position": null,
                        "order": null,
                        "overflow": null,
                        "overflow_x": null,
                        "overflow_y": null,
                        "padding": null,
                        "right": null,
                        "top": null,
                        "visibility": null,
                        "width": null
                    }
                },
                "087c9f22532c4783ae5bb1d7db1aecf4": {
                    "model_module": "@jupyter-widgets/controls",
                    "model_name": "ProgressStyleModel",
                    "model_module_version": "1.5.0",
                    "state": {
                        "_model_module": "@jupyter-widgets/controls",
                        "_model_module_version": "1.5.0",
                        "_model_name": "ProgressStyleModel",
                        "_view_count": null,
                        "_view_module": "@jupyter-widgets/base",
                        "_view_module_version": "1.2.0",
                        "_view_name": "StyleView",
                        "bar_color": null,
                        "description_width": ""
                    }
                },
                "4dd51037887f4f2aac0519f1bfa67abd": {
                    "model_module": "@jupyter-widgets/base",
                    "model_name": "LayoutModel",
                    "model_module_version": "1.2.0",
                    "state": {
                        "_model_module": "@jupyter-widgets/base",
                        "_model_module_version": "1.2.0",
                        "_model_name": "LayoutModel",
                        "_view_count": null,
                        "_view_module": "@jupyter-widgets/base",
                        "_view_module_version": "1.2.0",
                        "_view_name": "LayoutView",
                        "align_content": null,
                        "align_items": null,
                        "align_self": null,
                        "border": null,
                        "bottom": null,
                        "display": null,
                        "flex": null,
                        "flex_flow": null,
                        "grid_area": null,
                        "grid_auto_columns": null,
                        "grid_auto_flow": null,
                        "grid_auto_rows": null,
                        "grid_column": null,
                        "grid_gap": null,
                        "grid_row": null,
                        "grid_template_areas": null,
                        "grid_template_columns": null,
                        "grid_template_rows": null,
                        "height": null,
                        "justify_content": null,
                        "justify_items": null,
                        "left": null,
                        "margin": null,
                        "max_height": null,
                        "max_width": null,
                        "min_height": null,
                        "min_width": null,
                        "object_fit": null,
                        "object_position": null,
                        "order": null,
                        "overflow": null,
                        "overflow_x": null,
                        "overflow_y": null,
                        "padding": null,
                        "right": null,
                        "top": null,
                        "visibility": null,
                        "width": null
                    }
                },
                "d2139265b5cd4bdb93b245dff0f40b1e": {
                    "model_module": "@jupyter-widgets/controls",
                    "model_name": "DescriptionStyleModel",
                    "model_module_version": "1.5.0",
                    "state": {
                        "_model_module": "@jupyter-widgets/controls",
                        "_model_module_version": "1.5.0",
                        "_model_name": "DescriptionStyleModel",
                        "_view_count": null,
                        "_view_module": "@jupyter-widgets/base",
                        "_view_module_version": "1.2.0",
                        "_view_name": "StyleView",
                        "description_width": ""
                    }
                }
            }
        }
    },
    "nbformat": 4,
    "nbformat_minor": 0
}