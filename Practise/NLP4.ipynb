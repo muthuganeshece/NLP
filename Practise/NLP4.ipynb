{
 "cells": [
  {
   "cell_type": "markdown",
   "id": "aa5933c9",
   "metadata": {},
   "source": [
    "# Email Auto Fill\n",
    "- **Text Preprocessing**\n",
    "- **Probabilistic Language Models**\n",
    "    - *Unigram, Bigrams, Trigrams, N-grams*"
   ]
  },
  {
   "cell_type": "code",
   "execution_count": 1,
   "id": "856a70ec",
   "metadata": {},
   "outputs": [],
   "source": [
    "import numpy as np\n",
    "import pandas as pd\n",
    "import nltk, re, string, contractions\n",
    "from nltk.tokenize import sent_tokenize, word_tokenize"
   ]
  },
  {
   "cell_type": "code",
   "execution_count": 8,
   "id": "df53b331",
   "metadata": {},
   "outputs": [],
   "source": [
    "raw_data = pd.read_csv(r'F:\\Muthu_2023\\Personal\\NextStep\\NLP\\NLP\\Dataset\\Email\\email_truncated.csv')"
   ]
  },
  {
   "cell_type": "code",
   "execution_count": null,
   "id": "823090c7",
   "metadata": {},
   "outputs": [],
   "source": []
  }
 ],
 "metadata": {
  "kernelspec": {
   "display_name": "Python 3 (ipykernel)",
   "language": "python",
   "name": "python3"
  },
  "language_info": {
   "codemirror_mode": {
    "name": "ipython",
    "version": 3
   },
   "file_extension": ".py",
   "mimetype": "text/x-python",
   "name": "python",
   "nbconvert_exporter": "python",
   "pygments_lexer": "ipython3",
   "version": "3.11.5"
  }
 },
 "nbformat": 4,
 "nbformat_minor": 5
}
