{
 "cells": [
  {
   "cell_type": "markdown",
   "id": "ac2848b5",
   "metadata": {},
   "source": [
    "# Medium Article Recommendation"
   ]
  },
  {
   "cell_type": "markdown",
   "id": "274a380d",
   "metadata": {},
   "source": [
    "- `Text Preprocessing`\n",
    "- `Text Contraction`\n",
    "- `Lemmatization`\n",
    "- `Bag of Words`\n",
    "- `TF IDF`"
   ]
  },
  {
   "cell_type": "code",
   "execution_count": null,
   "id": "53c3808d",
   "metadata": {},
   "outputs": [],
   "source": [
    "import numpy as np\n",
    "import pandas as  pd\n",
    "import nltk\n",
    "from nltk.tokenize import word_tokenize, sent_tokenize\n",
    "from nltk.stem import PorterStemmer, WordNetLemmatizer\n",
    "from nltk.corpus import stopwords\n",
    "import string"
   ]
  },
  {
   "cell_type": "code",
   "execution_count": null,
   "id": "7fe601a1",
   "metadata": {},
   "outputs": [],
   "source": []
  }
 ],
 "metadata": {
  "kernelspec": {
   "display_name": "Python 3 (ipykernel)",
   "language": "python",
   "name": "python3"
  },
  "language_info": {
   "codemirror_mode": {
    "name": "ipython",
    "version": 3
   },
   "file_extension": ".py",
   "mimetype": "text/x-python",
   "name": "python",
   "nbconvert_exporter": "python",
   "pygments_lexer": "ipython3",
   "version": "3.11.5"
  }
 },
 "nbformat": 4,
 "nbformat_minor": 5
}
